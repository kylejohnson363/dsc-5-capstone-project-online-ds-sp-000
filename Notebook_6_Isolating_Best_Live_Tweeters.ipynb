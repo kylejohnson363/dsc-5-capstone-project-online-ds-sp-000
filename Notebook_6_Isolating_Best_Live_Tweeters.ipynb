{
 "cells": [
  {
   "cell_type": "markdown",
   "metadata": {},
   "source": [
    "## Part 2 - Isolating the Best Live Tweeters\n",
    "This notebook will mimick Notebook 3 in its attempt to isolate the most accurate tweeters and using only their sentiments to predict stock movement."
   ]
  },
  {
   "cell_type": "code",
   "execution_count": 1,
   "metadata": {},
   "outputs": [],
   "source": [
    "import pandas as pd\n",
    "import numpy as np \n",
    "from scipy import stats\n",
    "import matplotlib.pyplot as plt\n",
    "import matplotlib.ticker as ticker\n",
    "from mpl_toolkits.mplot3d import Axes3D\n",
    "import pickle\n",
    "import datetime\n",
    "from scipy import stats\n",
    "import plotly.express as px\n",
    "import plotly.graph_objects as go\n",
    "pd.set_option('display.max_rows', 500)\n",
    "pd.set_option('display.max_columns', 500)\n",
    "pickle_in=open(\"df_api.pickle\",\"rb\")\n",
    "df_api=pickle.load(pickle_in)\n",
    "pickle_in=open(\"daily_api_returns.pickle\",\"rb\")\n",
    "daily_api_returns=pickle.load(pickle_in)\n",
    "pickle_in=open(\"all_api_tweets.pickle\",\"rb\")\n",
    "all_api_tweets=pickle.load(pickle_in)"
   ]
  },
  {
   "cell_type": "markdown",
   "metadata": {},
   "source": [
    "## Adding the Resulting Stock Movement to Each Tweet\n",
    "Note that this cell took about an hour to run."
   ]
  },
  {
   "cell_type": "code",
   "execution_count": 11,
   "metadata": {},
   "outputs": [
    {
     "name": "stdout",
     "output_type": "stream",
     "text": [
      "0\n",
      "0\n"
     ]
    },
    {
     "name": "stderr",
     "output_type": "stream",
     "text": [
      "C:\\Users\\kylej\\Anaconda3\\lib\\site-packages\\ipykernel_launcher.py:26: SettingWithCopyWarning:\n",
      "\n",
      "\n",
      "A value is trying to be set on a copy of a slice from a DataFrame\n",
      "\n",
      "See the caveats in the documentation: http://pandas.pydata.org/pandas-docs/stable/indexing.html#indexing-view-versus-copy\n",
      "\n",
      "C:\\Users\\kylej\\Anaconda3\\lib\\site-packages\\ipykernel_launcher.py:27: SettingWithCopyWarning:\n",
      "\n",
      "\n",
      "A value is trying to be set on a copy of a slice from a DataFrame\n",
      "\n",
      "See the caveats in the documentation: http://pandas.pydata.org/pandas-docs/stable/indexing.html#indexing-view-versus-copy\n",
      "\n",
      "C:\\Users\\kylej\\Anaconda3\\lib\\site-packages\\ipykernel_launcher.py:28: SettingWithCopyWarning:\n",
      "\n",
      "\n",
      "A value is trying to be set on a copy of a slice from a DataFrame\n",
      "\n",
      "See the caveats in the documentation: http://pandas.pydata.org/pandas-docs/stable/indexing.html#indexing-view-versus-copy\n",
      "\n",
      "C:\\Users\\kylej\\Anaconda3\\lib\\site-packages\\ipykernel_launcher.py:29: SettingWithCopyWarning:\n",
      "\n",
      "\n",
      "A value is trying to be set on a copy of a slice from a DataFrame\n",
      "\n",
      "See the caveats in the documentation: http://pandas.pydata.org/pandas-docs/stable/indexing.html#indexing-view-versus-copy\n",
      "\n",
      "C:\\Users\\kylej\\Anaconda3\\lib\\site-packages\\ipykernel_launcher.py:39: SettingWithCopyWarning:\n",
      "\n",
      "\n",
      "A value is trying to be set on a copy of a slice from a DataFrame\n",
      "\n",
      "See the caveats in the documentation: http://pandas.pydata.org/pandas-docs/stable/indexing.html#indexing-view-versus-copy\n",
      "\n",
      "C:\\Users\\kylej\\Anaconda3\\lib\\site-packages\\ipykernel_launcher.py:40: SettingWithCopyWarning:\n",
      "\n",
      "\n",
      "A value is trying to be set on a copy of a slice from a DataFrame\n",
      "\n",
      "See the caveats in the documentation: http://pandas.pydata.org/pandas-docs/stable/indexing.html#indexing-view-versus-copy\n",
      "\n",
      "C:\\Users\\kylej\\Anaconda3\\lib\\site-packages\\ipykernel_launcher.py:53: SettingWithCopyWarning:\n",
      "\n",
      "\n",
      "A value is trying to be set on a copy of a slice from a DataFrame\n",
      "\n",
      "See the caveats in the documentation: http://pandas.pydata.org/pandas-docs/stable/indexing.html#indexing-view-versus-copy\n",
      "\n",
      "C:\\Users\\kylej\\Anaconda3\\lib\\site-packages\\ipykernel_launcher.py:54: SettingWithCopyWarning:\n",
      "\n",
      "\n",
      "A value is trying to be set on a copy of a slice from a DataFrame\n",
      "\n",
      "See the caveats in the documentation: http://pandas.pydata.org/pandas-docs/stable/indexing.html#indexing-view-versus-copy\n",
      "\n",
      "C:\\Users\\kylej\\Anaconda3\\lib\\site-packages\\ipykernel_launcher.py:36: SettingWithCopyWarning:\n",
      "\n",
      "\n",
      "A value is trying to be set on a copy of a slice from a DataFrame\n",
      "\n",
      "See the caveats in the documentation: http://pandas.pydata.org/pandas-docs/stable/indexing.html#indexing-view-versus-copy\n",
      "\n",
      "C:\\Users\\kylej\\Anaconda3\\lib\\site-packages\\ipykernel_launcher.py:37: SettingWithCopyWarning:\n",
      "\n",
      "\n",
      "A value is trying to be set on a copy of a slice from a DataFrame\n",
      "\n",
      "See the caveats in the documentation: http://pandas.pydata.org/pandas-docs/stable/indexing.html#indexing-view-versus-copy\n",
      "\n",
      "C:\\Users\\kylej\\Anaconda3\\lib\\site-packages\\ipykernel_launcher.py:50: SettingWithCopyWarning:\n",
      "\n",
      "\n",
      "A value is trying to be set on a copy of a slice from a DataFrame\n",
      "\n",
      "See the caveats in the documentation: http://pandas.pydata.org/pandas-docs/stable/indexing.html#indexing-view-versus-copy\n",
      "\n",
      "C:\\Users\\kylej\\Anaconda3\\lib\\site-packages\\ipykernel_launcher.py:51: SettingWithCopyWarning:\n",
      "\n",
      "\n",
      "A value is trying to be set on a copy of a slice from a DataFrame\n",
      "\n",
      "See the caveats in the documentation: http://pandas.pydata.org/pandas-docs/stable/indexing.html#indexing-view-versus-copy\n",
      "\n",
      "C:\\Users\\kylej\\Anaconda3\\lib\\site-packages\\ipykernel_launcher.py:42: SettingWithCopyWarning:\n",
      "\n",
      "\n",
      "A value is trying to be set on a copy of a slice from a DataFrame\n",
      "\n",
      "See the caveats in the documentation: http://pandas.pydata.org/pandas-docs/stable/indexing.html#indexing-view-versus-copy\n",
      "\n",
      "C:\\Users\\kylej\\Anaconda3\\lib\\site-packages\\ipykernel_launcher.py:43: SettingWithCopyWarning:\n",
      "\n",
      "\n",
      "A value is trying to be set on a copy of a slice from a DataFrame\n",
      "\n",
      "See the caveats in the documentation: http://pandas.pydata.org/pandas-docs/stable/indexing.html#indexing-view-versus-copy\n",
      "\n",
      "C:\\Users\\kylej\\Anaconda3\\lib\\site-packages\\ipykernel_launcher.py:47: SettingWithCopyWarning:\n",
      "\n",
      "\n",
      "A value is trying to be set on a copy of a slice from a DataFrame\n",
      "\n",
      "See the caveats in the documentation: http://pandas.pydata.org/pandas-docs/stable/indexing.html#indexing-view-versus-copy\n",
      "\n",
      "C:\\Users\\kylej\\Anaconda3\\lib\\site-packages\\ipykernel_launcher.py:48: SettingWithCopyWarning:\n",
      "\n",
      "\n",
      "A value is trying to be set on a copy of a slice from a DataFrame\n",
      "\n",
      "See the caveats in the documentation: http://pandas.pydata.org/pandas-docs/stable/indexing.html#indexing-view-versus-copy\n",
      "\n",
      "C:\\Users\\kylej\\Anaconda3\\lib\\site-packages\\ipykernel_launcher.py:33: SettingWithCopyWarning:\n",
      "\n",
      "\n",
      "A value is trying to be set on a copy of a slice from a DataFrame\n",
      "\n",
      "See the caveats in the documentation: http://pandas.pydata.org/pandas-docs/stable/indexing.html#indexing-view-versus-copy\n",
      "\n",
      "C:\\Users\\kylej\\Anaconda3\\lib\\site-packages\\ipykernel_launcher.py:34: SettingWithCopyWarning:\n",
      "\n",
      "\n",
      "A value is trying to be set on a copy of a slice from a DataFrame\n",
      "\n",
      "See the caveats in the documentation: http://pandas.pydata.org/pandas-docs/stable/indexing.html#indexing-view-versus-copy\n",
      "\n",
      "C:\\Users\\kylej\\Anaconda3\\lib\\site-packages\\ipykernel_launcher.py:56: SettingWithCopyWarning:\n",
      "\n",
      "\n",
      "A value is trying to be set on a copy of a slice from a DataFrame\n",
      "\n",
      "See the caveats in the documentation: http://pandas.pydata.org/pandas-docs/stable/indexing.html#indexing-view-versus-copy\n",
      "\n",
      "C:\\Users\\kylej\\Anaconda3\\lib\\site-packages\\ipykernel_launcher.py:57: SettingWithCopyWarning:\n",
      "\n",
      "\n",
      "A value is trying to be set on a copy of a slice from a DataFrame\n",
      "\n",
      "See the caveats in the documentation: http://pandas.pydata.org/pandas-docs/stable/indexing.html#indexing-view-versus-copy\n",
      "\n"
     ]
    },
    {
     "name": "stdout",
     "output_type": "stream",
     "text": [
      "1000\n",
      "2019-07-31 00:00:00\n",
      "2000\n",
      "0\n",
      "3000\n",
      "2019-07-28 00:00:00\n",
      "4000\n",
      "2019-07-25 00:00:00\n",
      "5000\n",
      "2019-07-23 00:00:00\n",
      "6000\n",
      "0\n",
      "7000\n",
      "0\n",
      "8000\n",
      "2019-07-26 00:00:00\n",
      "9000\n",
      "2019-07-25 00:00:00\n",
      "10000\n",
      "2019-07-23 00:00:00\n",
      "11000\n",
      "0\n",
      "12000\n",
      "2019-07-31 00:00:00\n",
      "13000\n",
      "0\n",
      "14000\n",
      "0\n",
      "15000\n",
      "0\n",
      "16000\n",
      "2019-07-25 00:00:00\n",
      "17000\n",
      "0\n",
      "18000\n",
      "2019-07-24 00:00:00\n",
      "19000\n",
      "0\n",
      "20000\n",
      "2019-07-31 00:00:00\n",
      "21000\n",
      "2019-07-24 00:00:00\n",
      "22000\n",
      "2019-07-24 00:00:00\n",
      "23000\n",
      "0\n",
      "24000\n",
      "2019-07-24 00:00:00\n",
      "25000\n",
      "0\n",
      "26000\n",
      "0\n",
      "27000\n",
      "0\n",
      "28000\n",
      "2019-07-24 00:00:00\n",
      "29000\n",
      "0\n",
      "30000\n",
      "2019-07-23 00:00:00\n",
      "31000\n",
      "0\n",
      "32000\n",
      "2019-07-26 00:00:00\n",
      "33000\n",
      "0\n",
      "34000\n",
      "2019-07-31 00:00:00\n",
      "35000\n",
      "0\n",
      "36000\n",
      "2019-07-30 00:00:00\n",
      "37000\n",
      "2019-07-29 00:00:00\n",
      "38000\n",
      "2019-07-28 00:00:00\n",
      "39000\n",
      "2019-07-27 00:00:00\n",
      "40000\n",
      "0\n",
      "41000\n",
      "2019-07-26 00:00:00\n",
      "42000\n",
      "0\n",
      "43000\n",
      "0\n",
      "44000\n",
      "2019-07-25 00:00:00\n",
      "45000\n",
      "2019-07-25 00:00:00\n",
      "46000\n",
      "2019-07-25 00:00:00\n",
      "47000\n",
      "0\n",
      "48000\n",
      "2019-07-24 00:00:00\n",
      "49000\n",
      "2019-07-23 00:00:00\n",
      "50000\n",
      "0\n",
      "51000\n",
      "0\n"
     ]
    }
   ],
   "source": [
    "# non_zeros identifies all trades that have a sentiment value that is not zero and has a numerical follower count\n",
    "#all_api_tweets.reset_index(drop=True,inplace=True)\n",
    "all_api_tweets['Date']=all_api_tweets.date_time.dt.strftime(\"%Y-%m-%d\")\n",
    "all_api_tweets['Date']=pd.to_datetime(all_api_tweets['Date'], infer_datetime_format=True)\n",
    "all_api_tweets_w_results=all_api_tweets[(all_api_tweets.vader_score!=0) & (all_api_tweets.blob_score!=0)]\n",
    "all_api_tweets_w_results=all_api_tweets_w_results.dropna(subset=['weighted_vader','weighted_blob'])\n",
    "all_api_tweets_w_results.reset_index(drop=True,inplace=True)\n",
    "all_api_tweets_w_results['vader_correct_yn']=None\n",
    "all_api_tweets_w_results['vader_pnl']=None\n",
    "all_api_tweets_w_results['blob_correct_yn']=None\n",
    "all_api_tweets_w_results['blob_pnl']=None\n",
    "for i in range(len(all_api_tweets_w_results)):\n",
    "    try:\n",
    "        if i%1000==0:\n",
    "            print(i)\n",
    "        stock=all_api_tweets_w_results.ticker[i]\n",
    "        if all_api_tweets_w_results.date_time[i].time()<datetime.time(9,30):\n",
    "            trade_day=all_api_tweets_w_results.Date[i]\n",
    "        elif all_api_tweets_w_results.date_time[i].time()>datetime.time(16,0):\n",
    "            trade_day=all_api_tweets_w_results.Date[i]+np.timedelta64(1,\"D\")\n",
    "        else:\n",
    "            trade_day=0\n",
    "        if i%1000==0:\n",
    "            print(trade_day)\n",
    "        if trade_day==0:\n",
    "            all_api_tweets_w_results['vader_correct_yn'][i]=-99\n",
    "            all_api_tweets_w_results['vader_pnl'][i]=-99\n",
    "            all_api_tweets_w_results['blob_correct_yn'][i]=-99\n",
    "            all_api_tweets_w_results['blob_pnl'][i]=-99\n",
    "        elif daily_api_returns.index.isin([trade_day]).any():\n",
    "            stock_move=daily_api_returns[stock][trade_day]\n",
    "            if (all_api_tweets_w_results.vader_score[i]>0) & (stock_move>0):\n",
    "                all_api_tweets_w_results.vader_correct_yn[i]=1\n",
    "                all_api_tweets_w_results.vader_pnl[i]=stock_move\n",
    "            elif (all_api_tweets_w_results.vader_score[i]<0) & (stock_move<0):\n",
    "                all_api_tweets_w_results.vader_correct_yn[i]=1\n",
    "                all_api_tweets_w_results.vader_pnl[i]=-stock_move\n",
    "            elif (all_api_tweets_w_results.vader_score[i]>0) & (stock_move<0):\n",
    "                all_api_tweets_w_results.vader_correct_yn[i]=0\n",
    "                all_api_tweets_w_results.vader_pnl[i]=stock_move\n",
    "            elif (all_api_tweets_w_results.vader_score[i]<0) & (stock_move>0):\n",
    "                all_api_tweets_w_results.vader_correct_yn[i]=0\n",
    "                all_api_tweets_w_results.vader_pnl[i]=-stock_move\n",
    "            else:\n",
    "                None\n",
    "            if (all_api_tweets_w_results.blob_score[i]>0) & (stock_move>0):\n",
    "                all_api_tweets_w_results.blob_correct_yn[i]=1\n",
    "                all_api_tweets_w_results.blob_pnl[i]=stock_move\n",
    "            elif (all_api_tweets_w_results.blob_score[i]<0) & (stock_move<0):\n",
    "                all_api_tweets_w_results.blob_correct_yn[i]=1\n",
    "                all_api_tweets_w_results.blob_pnl[i]=-stock_move\n",
    "            elif (all_api_tweets_w_results.blob_score[i]>0) & (stock_move<0):\n",
    "                all_api_tweets_w_results.blob_correct_yn[i]=0\n",
    "                all_api_tweets_w_results.blob_pnl[i]=stock_move\n",
    "            elif (all_api_tweets_w_results.blob_score[i]<0) & (stock_move>0):\n",
    "                all_api_tweets_w_results.blob_correct_yn[i]=0\n",
    "                all_api_tweets_w_results.blob_pnl[i]=-stock_move\n",
    "            else:\n",
    "                None\n",
    "        else:\n",
    "            None\n",
    "    except:\n",
    "        None\n",
    "# This removes useless values and saves the dataframe for future use\n",
    "all_api_tweets_w_results=all_api_tweets_w_results[all_api_tweets_w_results.vader_correct_yn!=-99]\n",
    "all_api_tweets_w_results=all_api_tweets_w_results[(all_api_tweets_w_results.vader_correct_yn==1) | (all_api_tweets_w_results.vader_correct_yn==0)]\n",
    "pickle_out=open(\"all_api_tweets_w_results.pickle\",\"wb\")\n",
    "pickle.dump(all_api_tweets_w_results,pickle_out)\n",
    "pickle_out.close()"
   ]
  },
  {
   "cell_type": "markdown",
   "metadata": {},
   "source": [
    "## Identifying Prolific Tweeters\n",
    "This cell splits the data into a train and test set based on a date in time in order that we use the past to predict the future.  It then isolates larger tweeters and identifies the sentiment that each tweeter gives to each stock for each day that the tweeter tweets about a given stock. Finally this cell uses all of that data to give each tweeter an aggregate score based on his sentiment's ability to predict stock movements and creates a visualization of this data."
   ]
  },
  {
   "cell_type": "code",
   "execution_count": 102,
   "metadata": {},
   "outputs": [
    {
     "data": {
      "text/plain": [
       "<matplotlib.lines.Line2D at 0x282ce4b92b0>"
      ]
     },
     "execution_count": 102,
     "metadata": {},
     "output_type": "execute_result"
    },
    {
     "data": {
      "image/png": "[encoded data removed]",
      "text/plain": [
       "<Figure size 864x720 with 2 Axes>"
      ]
     },
     "metadata": {
      "needs_background": "light"
     },
     "output_type": "display_data"
    }
   ],
   "source": [
    "# Defining the train-test cutoff date\n",
    "test_date_cutoff=pd.to_datetime('2019-07-25')\n",
    "# The training set is to determine the big tweeters based on \"past data\"\n",
    "all_api_tweets_w_results_train=all_api_tweets_w_results[all_api_tweets_w_results.Date<test_date_cutoff]\n",
    "tweeter_rank_train=all_api_tweets_w_results_train['username'].value_counts()\n",
    "# I have chosen the top 350 tweeters because above this threshold, each tweeter has at least 100 tweets\n",
    "# over the given time period.  I have arbitrarily chosen 100 tweets as a cutoff because it allows for \n",
    "# at least 1 tweet per day\n",
    "big_tweeters_train=tweeter_rank_train[:350]\n",
    "# This creates an average sentiment score for each tweeter for each stock for each day\n",
    "# This is done for all tweets from the train and test set, which will be split up below\n",
    "tweeter_scores=pd.DataFrame([])\n",
    "for tweeter in big_tweeters_train.keys():\n",
    "    iso_tweets=all_api_tweets_w_results[all_api_tweets_w_results['username']==tweeter]\n",
    "    days_tweeted=iso_tweets.Date.unique()\n",
    "    for day in days_tweeted:\n",
    "        day_tweets=iso_tweets[iso_tweets.Date==day]\n",
    "        day_tweets_stocks=day_tweets.ticker.unique()\n",
    "        for stock in day_tweets_stocks:\n",
    "            stock_tweets=day_tweets[day_tweets.ticker==stock]\n",
    "            stock_tweets.reset_index(drop=True,inplace=True)\n",
    "            avg_vader_sent=stock_tweets.vader_score.mean()\n",
    "            if avg_vader_sent>0:\n",
    "                vader_predict=1\n",
    "            else:\n",
    "                vader_predict=-1\n",
    "            avg_blob_sent=stock_tweets.blob_score.mean()\n",
    "            if avg_blob_sent>0:\n",
    "                blob_predict=1\n",
    "            else:\n",
    "                blob_predict=-1\n",
    "            stock_up=stock_tweets.vader_score[0]*(stock_tweets.vader_correct_yn[0]-.5)\n",
    "            if stock_up>0:\n",
    "                stock_move=np.abs(stock_tweets.vader_pnl[0])\n",
    "            else:\n",
    "                stock_move=-np.abs(stock_tweets.vader_pnl[0])\n",
    "            if (avg_vader_sent*stock_move)>0:\n",
    "                vader_correct_yn=1\n",
    "            else:\n",
    "                vader_correct_yn=0\n",
    "            if (avg_blob_sent*stock_move)>0:\n",
    "                blob_correct_yn=1\n",
    "            else:\n",
    "                blob_correct_yn=0\n",
    "            vader_return=vader_predict*stock_move\n",
    "            blob_return=blob_predict*stock_move\n",
    "            if stock_up>0:\n",
    "                stock_up_dn=1\n",
    "            else:\n",
    "                stock_up_dn=-1\n",
    "            tweeter_scores=tweeter_scores.append(pd.DataFrame({'tweeter':tweeter,'day':day,'stock':stock,\n",
    "                                                               'stock_move':stock_move,\n",
    "                                                               'stock_up_dn':stock_up_dn,\n",
    "                                                              'avg_vader_sent':avg_vader_sent,\n",
    "                                                              'avg_blob_sent':avg_blob_sent,\n",
    "                                                              'vader_predict':vader_predict,\n",
    "                                                              'blob_predict':blob_predict,\n",
    "                                                              'vader_correct':vader_correct_yn,\n",
    "                                                              'blob_correct':blob_correct_yn,\n",
    "                                                              'vader_return':vader_return,\n",
    "                                                              'blob_return':blob_return},index=[0]),ignore_index=True)\n",
    "# This splits the tweets into train and test sets\n",
    "tweeter_scores_train=tweeter_scores[tweeter_scores.day<test_date_cutoff]\n",
    "tweeter_scores_test=tweeter_scores[tweeter_scores.day>=test_date_cutoff]\n",
    "\n",
    "# This takes the training set and gives each tweeter an aggregate score for all of his tweeting\n",
    "tweeter_ag_scores=pd.DataFrame([])\n",
    "for tweeter in big_tweeters_train.keys():\n",
    "    holder=tweeter_scores_train[tweeter_scores_train.tweeter==tweeter]\n",
    "    holder.reset_index(drop=True,inplace=True)\n",
    "    tweeter_ag_scores=tweeter_ag_scores.append(pd.DataFrame({'tweeter':tweeter,'stocks_predicted':len(holder),\n",
    "                                                             'avg_vader_sent':holder.avg_vader_sent.mean(),\n",
    "                                                            'avg_blob_sent':holder.avg_blob_sent.mean(),\n",
    "                                                            'pct_vader_correct':holder.vader_correct.mean(),\n",
    "                                                            'pct_blob_correct':holder.blob_correct.mean(),\n",
    "                                                            'total_vader_return':holder.vader_return.sum(),\n",
    "                                                            'total_blob_return':holder.blob_return.sum(),\n",
    "                                                            'avg_vader_return':holder.vader_return.mean(),\n",
    "                                                            'avg_blob_return':holder.blob_return.mean()},\n",
    "                                                            index=[0]),ignore_index=True)\n",
    "\n",
    "# This creates a scatter plot where each point is an individual tweeter. Its size and color represent\n",
    "# the volume of tweets of tweets of theirs that were included in the training set. The x-value is the\n",
    "# percentage of picks that they got correct and the y_value is the average return per trade.\n",
    "plt.figure(figsize=(12,10))\n",
    "plt.scatter(tweeter_ag_scores.pct_vader_correct*100,tweeter_ag_scores.avg_vader_return*100, label=None,\n",
    "            c=tweeter_ag_scores.stocks_predicted, cmap='viridis',\n",
    "            linewidth=0, alpha=.4,s=tweeter_ag_scores.stocks_predicted*(1000/tweeter_ag_scores.stocks_predicted.max()))\n",
    "plt.axis(aspect='equal')\n",
    "plt.xlabel('Percent of Trades Predicted Correctly')\n",
    "plt.ylabel('Average Return per Trade (Percent)')\n",
    "plt.xlim(10,90)\n",
    "plt.ylim(-1,1)\n",
    "plt.colorbar(label='Number of Trades Tweeted About')\n",
    "plt.clim(0,tweeter_ag_scores.stocks_predicted.max())\n",
    "plt.title(\"Tweeter's Win Percentage vs Average Return per Trade\")\n",
    "plt.axhline(0,color='red')\n",
    "plt.axvline(50,color='red')"
   ]
  },
  {
   "cell_type": "markdown",
   "metadata": {},
   "source": [
    "The chart above shows us that there clearly appear to be some tweeters whose sentiment scores are more useful in predicting stock movements. Below I use the test data set to see if this observation holds true on unseen data.\n",
    "\n",
    "Below I create 3D scatter plots to visualize the relationships between variables."
   ]
  },
  {
   "cell_type": "code",
   "execution_count": 103,
   "metadata": {},
   "outputs": [
    {
     "name": "stderr",
     "output_type": "stream",
     "text": [
      "C:\\Users\\kylej\\Anaconda3\\lib\\site-packages\\ipykernel_launcher.py:65: RuntimeWarning:\n",
      "\n",
      "invalid value encountered in double_scalars\n",
      "\n",
      "C:\\Users\\kylej\\Anaconda3\\lib\\site-packages\\ipykernel_launcher.py:66: RuntimeWarning:\n",
      "\n",
      "invalid value encountered in double_scalars\n",
      "\n"
     ]
    },
    {
     "data": {
      "application/vnd.plotly.v1+json": {
       "config": {
        "plotlyServerURL": "https://plot.ly"
       },
       "data": [
        {
         "marker": {
          "color": "blue",
          "line": {
           "width": 0
          },
          "size": 3
         },
         "mode": "markers",
         "name": "Above Benchmark Return",
         "type": "scatter3d",
         "x": [
          0.35,
          0.35,
          0.35,
          0.35,
          0.35,
          0.35,
          0.35,
          0.35,
          0.35,
          0.35,
          0.35,
          0.35,
          0.35,
          0.35,
          0.35,
          0.35,
          0.35,
          0.35,
          0.35,
          0.35,
          0.35,
          0.35,
          0.35,
          0.35,
          0.375,
          0.375,
          0.375,
          0.375,
          0.375,
          0.375,
          0.375,
          0.375,
          0.375,
          0.375,
          0.375,
          0.375,
          0.375,
          0.375,
          0.375,
          0.375,
          0.375,
          0.375,
          0.375,
          0.375,
          0.375,
          0.375,
          0.375,
          0.375,
          0.375,
          0.375,
          0.4,
          0.4,
          0.4,
          0.4,
          0.4,
          0.4,
          0.4,
          0.4,
          0.4,
          0.4,
          0.4,
          0.4,
          0.4,
          0.4,
          0.4,
          0.4,
          0.4,
          0.4,
          0.4,
          0.4,
          0.4,
          0.4,
          0.425,
          0.425,
          0.425,
          0.425,
          0.425,
          0.425,
          0.425,
          0.425,
          0.425,
          0.425,
          0.425,
          0.425,
          0.425,
          0.425,
          0.425,
          0.425,
          0.425,
          0.425,
          0.425,
          0.425,
          0.425,
          0.425,
          0.425,
          0.45,
          0.45,
          0.45,
          0.45,
          0.45,
          0.45,
          0.45,
          0.45,
          0.45,
          0.45,
          0.45,
          0.45,
          0.45,
          0.45,
          0.45,
          0.45,
          0.45,
          0.45,
          0.45,
          0.45,
          0.45,
          0.45,
          0.45,
          0.45,
          0.45,
          0.475,
          0.475,
          0.475,
          0.475,
          0.475,
          0.475,
          0.475,
          0.475,
          0.475,
          0.475,
          0.475,
          0.475,
          0.475,
          0.475,
          0.475,
          0.475,
          0.475,
          0.475,
          0.475,
          0.475,
          0.475,
          0.475,
          0.475,
          0.475,
          0.5,
          0.5,
          0.5,
          0.5,
          0.5,
          0.5,
          0.5,
          0.5,
          0.5,
          0.5,
          0.5,
          0.5,
          0.5,
          0.5,
          0.5,
          0.5,
          0.5,
          0.5,
          0.5,
          0.5,
          0.525,
          0.525,
          0.525,
          0.525,
          0.525,
          0.525,
          0.525,
          0.525,
          0.525,
          0.525,
          0.525,
          0.525,
          0.525,
          0.525,
          0.525,
          0.525,
          0.525,
          0.525,
          0.525,
          0.525,
          0.55,
          0.55,
          0.55,
          0.55,
          0.55,
          0.55,
          0.55,
          0.55,
          0.55,
          0.55,
          0.55,
          0.55,
          0.55,
          0.55,
          0.55,
          0.55,
          0.55,
          0.55,
          0.55,
          0.55,
          0.55,
          0.55,
          0.55,
          0.575,
          0.575,
          0.575,
          0.575,
          0.575,
          0.575,
          0.575,
          0.575,
          0.575,
          0.575,
          0.575,
          0.575,
          0.575,
          0.575,
          0.575,
          0.575,
          0.575,
          0.575,
          0.575,
          0.575,
          0.575,
          0.575,
          0.575,
          0.575,
          0.6,
          0.6,
          0.6,
          0.6,
          0.6,
          0.6,
          0.6,
          0.6,
          0.6,
          0.6,
          0.6,
          0.6,
          0.6,
          0.6,
          0.6,
          0.6,
          0.6,
          0.6,
          0.6,
          0.6,
          0.625,
          0.625,
          0.625,
          0.625,
          0.625,
          0.625,
          0.625,
          0.625,
          0.625,
          0.625,
          0.625,
          0.625,
          0.625,
          0.625,
          0.625,
          0.625,
          0.625,
          0.65,
          0.65,
          0.65,
          0.65,
          0.65,
          0.65,
          0.65,
          0.65,
          0.65,
          0.65,
          0.65,
          0.65,
          0.65,
          0.65,
          0.65,
          0.65,
          0.65,
          0.675,
          0.675,
          0.675,
          0.675,
          0.675,
          0.675,
          0.675,
          0.675,
          0.675,
          0.675,
          0.675,
          0.7,
          0.7,
          0.7,
          0.7,
          0.7,
          0.7,
          0.7,
          0.7,
          0.7,
          0.7
         ],
         "y": [
          75,
          14,
          26,
          8,
          13,
          16,
          37,
          9,
          10,
          65,
          41,
          12,
          20,
          18,
          15,
          11,
          25,
          45,
          38,
          62,
          47,
          33,
          17,
          39,
          70,
          14,
          26,
          8,
          13,
          16,
          35,
          9,
          7,
          27,
          12,
          38,
          19,
          15,
          11,
          10,
          17,
          24,
          22,
          42,
          37,
          61,
          46,
          25,
          20,
          29,
          64,
          13,
          23,
          14,
          32,
          6,
          24,
          12,
          60,
          36,
          11,
          17,
          15,
          16,
          22,
          20,
          40,
          33,
          56,
          43,
          18,
          27,
          62,
          13,
          21,
          30,
          6,
          22,
          12,
          59,
          34,
          24,
          23,
          11,
          17,
          15,
          19,
          39,
          33,
          56,
          42,
          18,
          27,
          16,
          36,
          60,
          13,
          20,
          12,
          29,
          9,
          6,
          21,
          57,
          33,
          23,
          11,
          17,
          15,
          61,
          19,
          38,
          32,
          53,
          41,
          24,
          22,
          18,
          27,
          35,
          59,
          13,
          20,
          12,
          28,
          9,
          6,
          21,
          56,
          32,
          23,
          11,
          17,
          15,
          60,
          18,
          38,
          31,
          53,
          40,
          24,
          22,
          26,
          35,
          46,
          11,
          15,
          4,
          8,
          10,
          20,
          6,
          7,
          17,
          27,
          9,
          19,
          13,
          16,
          14,
          25,
          36,
          33,
          22,
          46,
          11,
          15,
          4,
          8,
          10,
          20,
          6,
          7,
          17,
          27,
          9,
          19,
          13,
          16,
          14,
          25,
          36,
          33,
          22,
          43,
          11,
          13,
          4,
          6,
          10,
          9,
          17,
          5,
          14,
          8,
          37,
          25,
          18,
          15,
          12,
          7,
          23,
          21,
          31,
          28,
          19,
          20,
          42,
          3,
          11,
          12,
          4,
          6,
          10,
          9,
          15,
          8,
          5,
          13,
          7,
          36,
          24,
          16,
          17,
          14,
          21,
          20,
          29,
          27,
          18,
          19,
          2,
          33,
          3,
          10,
          9,
          4,
          5,
          13,
          6,
          20,
          12,
          11,
          7,
          8,
          19,
          15,
          23,
          17,
          14,
          16,
          30,
          2,
          8,
          3,
          4,
          12,
          28,
          9,
          6,
          18,
          21,
          17,
          16,
          15,
          11,
          10,
          7,
          28,
          2,
          7,
          3,
          4,
          8,
          11,
          27,
          9,
          6,
          18,
          20,
          16,
          15,
          12,
          10,
          29,
          5,
          4,
          1,
          2,
          10,
          3,
          6,
          11,
          8,
          9,
          7,
          5,
          4,
          1,
          2,
          3,
          8,
          9,
          7,
          6,
          10
         ],
         "z": [
          0.49356386666002305,
          0.12982704625842711,
          0.060477765800940185,
          0.11450725373614579,
          0.2675074727753318,
          0.33626511595270453,
          0.22693861051199826,
          0.0527367433068475,
          0.06064869663178461,
          0.9835587229571533,
          0.38664312800847034,
          0.04633380009883803,
          0.23583775808830354,
          0.47817585053540873,
          0.16446557962787897,
          0.08369084968974791,
          0.16841114283947933,
          0.3688230048998782,
          0.23822979028360314,
          0.5946649897848981,
          0.48654608892498336,
          0.08075675280685077,
          0.41268250379332694,
          0.3395105402855369,
          0.49356386666002305,
          0.12982704625842711,
          0.12634031544802868,
          0.11220088722730867,
          0.19042581057799457,
          0.46406153621669466,
          0.22693861051199826,
          0.04510302945468797,
          0.013815863566265116,
          0.013154290959520575,
          0.1572644837228989,
          0.38664312800847034,
          0.3478101305752235,
          0.16446557962787897,
          0.07390235835828372,
          0.06064869663178461,
          0.47817585053540873,
          0.26770763038415,
          0.2575344330080155,
          0.3688230048998782,
          0.23822979028360314,
          0.5946649897848981,
          0.48654608892498336,
          0.16841114283947933,
          0.23583775808830354,
          0.08075675280685077,
          0.49356386666002305,
          0.27822934028896756,
          0.36867050397823564,
          0.3451569839011116,
          0.22693861051199826,
          0.007087888710332127,
          0.2923410366560795,
          0.1522202221900363,
          0.9835587229571533,
          0.38664312800847034,
          0.05700388525781739,
          0.3478101305752235,
          0.38272890144284183,
          0.47817585053540873,
          0.26770763038415,
          0.2575344330080155,
          0.3688230048998782,
          0.23822979028360314,
          0.5946649897848981,
          0.48654608892498336,
          0.23583775808830354,
          0.08075675280685077,
          0.49356386666002305,
          0.3451569839011116,
          0.36867050397823564,
          0.22693861051199826,
          0.007087888710332127,
          0.42622819205710055,
          0.25111047816237597,
          0.9835587229571533,
          0.26681071079092816,
          0.24221697311636592,
          0.3796663098916984,
          0.05700388525781739,
          0.3478101305752235,
          0.3930253377978533,
          0.2575344330080155,
          0.3688230048998782,
          0.23822979028360314,
          0.5946649897848981,
          0.48654608892498336,
          0.23583775808830354,
          0.08075675280685077,
          0.47817585053540873,
          0.38664312800847034,
          2.2562282312358297,
          0.3451569839011116,
          0.3529405030535901,
          0.39656511340952927,
          0.22693861051199826,
          0.02158389272941973,
          0.03938983728877931,
          0.42622819205710055,
          0.9835587229571533,
          0.26681071079092816,
          0.37879725316040364,
          0.09484771971840791,
          0.3478101305752235,
          0.47817585053540873,
          0.49356386666002305,
          0.2575344330080155,
          0.3688230048998782,
          0.23822979028360314,
          0.5946649897848981,
          0.48654608892498336,
          0.24221697311636592,
          0.32624314206009475,
          0.23583775808830354,
          0.08075675280685077,
          0.38664312800847034,
          2.2562282312358297,
          0.3451569839011116,
          0.3529405030535901,
          0.39656511340952927,
          0.22693861051199826,
          0.02158389272941973,
          0.03938983728877931,
          0.42622819205710055,
          0.9835587229571533,
          0.26681071079092816,
          0.37879725316040364,
          0.09484771971840791,
          0.3478101305752235,
          0.47817585053540873,
          0.49356386666002305,
          0.2575344330080155,
          0.3688230048998782,
          0.23822979028360314,
          0.5946649897848981,
          0.48654608892498336,
          0.24221697311636592,
          0.32624314206009475,
          0.08075675280685077,
          0.38664312800847034,
          0.49356386666002305,
          0.4190734265605408,
          0.35089352404957763,
          0.11515321311821519,
          0.13149007028118165,
          0.3280538200218166,
          0.22693861051199826,
          0.04666661220579102,
          0.08191980078470666,
          0.21612485560377387,
          0.3688230048998782,
          0.16211041666427792,
          0.1660961911576185,
          0.47817585053540873,
          0.15803890520579852,
          0.508522296872846,
          0.3395105402855369,
          0.5946649897848981,
          0.48654608892498336,
          0.3157113683168722,
          0.49356386666002305,
          0.4190734265605408,
          0.35089352404957763,
          0.11515321311821519,
          0.13149007028118165,
          0.3280538200218166,
          0.22693861051199826,
          0.04666661220579102,
          0.08191980078470666,
          0.21612485560377387,
          0.3688230048998782,
          0.16211041666427792,
          0.1660961911576185,
          0.47817585053540873,
          0.15803890520579852,
          0.508522296872846,
          0.3395105402855369,
          0.5946649897848981,
          0.48654608892498336,
          0.3157113683168722,
          0.49356386666002305,
          0.456378277591708,
          0.6450348103181891,
          0.11465603669331537,
          0.04933932157609419,
          0.5346621103550988,
          0.2528177112505377,
          0.2851083461885602,
          0.09982759342609078,
          0.5976034312509807,
          0.15413049229906464,
          0.9835587229571533,
          0.3688230048998782,
          0.23849555877105613,
          0.08880157651027898,
          0.4510091467201913,
          0.08893692874814159,
          0.31750292223203885,
          0.3395105402855369,
          0.5946649897848981,
          0.48654608892498336,
          0.06432780104725297,
          0.3157113683168722,
          0.49356386666002305,
          0.08406790803639919,
          0.46826734938257686,
          0.5728048999796627,
          0.0881608348900683,
          0.0487091538749839,
          0.5794235966384947,
          0.33037187725589257,
          0.19379181942134344,
          0.1798912625404825,
          0.11842046247384579,
          0.5976034312509807,
          0.14708568534781916,
          0.9835587229571533,
          0.3688230048998782,
          0.14374028282309223,
          0.23849555877105613,
          0.30053819107961577,
          0.31750292223203885,
          0.3395105402855369,
          0.5946649897848981,
          0.48654608892498336,
          0.22693861051199826,
          0.3157113683168722,
          0.0310480899669617,
          0.49356386666002305,
          0.1154352522970991,
          0.5976034312509807,
          0.5494886738227058,
          0.3023538674721521,
          0.28859367057929824,
          0.23849555877105613,
          0.18811562767114215,
          0.48654608892498336,
          0.5853165969243546,
          0.6911873406511839,
          0.28540707915584757,
          0.3766055600820867,
          0.31750292223203885,
          0.4298409006285319,
          0.5946649897848981,
          0.3395105402855369,
          0.40215699989571574,
          0.5411583573352429,
          0.49356386666002305,
          0.12242685809442234,
          0.3413074376723211,
          0.1630366082657201,
          0.11655853521085914,
          0.4677448065994386,
          0.9180200787658079,
          0.39087368277788737,
          0.025309397675239566,
          0.4472229024101761,
          0.5455110066413891,
          0.4549463964518173,
          0.38689042274917035,
          0.5832738084140282,
          0.6105858675716258,
          0.4763187998875403,
          0.03807603115362391,
          2.1579202649488116,
          0.12242685809442234,
          0.13015706621716452,
          0.1630366082657201,
          0.11655853521085914,
          0.5183511458711768,
          0.8011178342501121,
          0.9180200787658079,
          0.4763187998875403,
          0.025309397675239566,
          0.4472229024101761,
          0.5455110066413891,
          0.4549463964518173,
          0.38689042274917035,
          0.4677448065994386,
          0.6105858675716258,
          0.49356386666002305,
          0.02276388664380346,
          0.0790837648634625,
          0.038802952509021604,
          0.10646273894983119,
          0.31750292223203885,
          0.057323537082629376,
          0.4217180055002932,
          0.48654608892498336,
          0.6472386934732207,
          0.10518232892245605,
          0.448609065396224,
          0.3438828356791193,
          0.11286335821788777,
          0.11649793279976371,
          0.169123992734303,
          0.16376245403147835,
          0.31750292223203885,
          0.3688230048998782,
          0.47978289344436836,
          0.42171800550029326,
          0.48654608892498336
         ]
        },
        {
         "marker": {
          "color": "green",
          "line": {
           "width": 0
          },
          "size": 3
         },
         "mode": "markers",
         "name": "Positive Return",
         "type": "scatter3d",
         "x": [
          0.4,
          0.425,
          0.45,
          0.475
         ],
         "y": [
          10,
          10,
          10,
          10
         ],
         "z": [
          0.0063928002711257275,
          0.0063928002711257275,
          0.0063928002711257275,
          0.0063928002711257275
         ]
        },
        {
         "marker": {
          "color": "red",
          "line": {
           "width": 0
          },
          "size": 3
         },
         "mode": "markers",
         "name": "Negative Return",
         "type": "scatter3d",
         "x": [
          0.35,
          0.35,
          0.35,
          0.35,
          0.35,
          0.35,
          0.35,
          0.35,
          0.35,
          0.35,
          0.375,
          0.375,
          0.375,
          0.375,
          0.375,
          0.375,
          0.375,
          0.375,
          0.4,
          0.4,
          0.4,
          0.4,
          0.4,
          0.4,
          0.4,
          0.4,
          0.4,
          0.4,
          0.4,
          0.425,
          0.425,
          0.425,
          0.425,
          0.425,
          0.425,
          0.425,
          0.425,
          0.425,
          0.425,
          0.45,
          0.45,
          0.45,
          0.45,
          0.45,
          0.45,
          0.45,
          0.45,
          0.475,
          0.475,
          0.475,
          0.475,
          0.475,
          0.475,
          0.475,
          0.475,
          0.5,
          0.5,
          0.5,
          0.5,
          0.5,
          0.525,
          0.525,
          0.525,
          0.525,
          0.525,
          0.55,
          0.55,
          0.55,
          0.55,
          0.575,
          0.575,
          0.575,
          0.6,
          0.6,
          0.625,
          0.625,
          0.65,
          0.65,
          0.675,
          0.675,
          0.7,
          0.7
         ],
         "y": [
          2,
          3,
          1,
          6,
          4,
          7,
          29,
          5,
          27,
          66,
          2,
          3,
          1,
          5,
          6,
          4,
          63,
          28,
          2,
          3,
          1,
          5,
          8,
          4,
          9,
          7,
          26,
          25,
          61,
          2,
          3,
          1,
          5,
          8,
          4,
          9,
          7,
          61,
          25,
          2,
          3,
          1,
          5,
          8,
          4,
          7,
          25,
          2,
          3,
          1,
          4,
          8,
          5,
          7,
          25,
          2,
          3,
          1,
          42,
          5,
          2,
          3,
          1,
          42,
          5,
          2,
          3,
          1,
          39,
          2,
          1,
          38,
          1,
          31,
          1,
          5,
          1,
          5,
          14,
          13,
          13,
          12
         ],
         "z": [
          -0.21831164914720222,
          -0.1793119375675151,
          -0.14943076700992994,
          -0.2567724305215267,
          -0.13511027460060243,
          -0.18825529296832408,
          -0.056121334393736726,
          -0.25610393521904934,
          -0.00696859965584921,
          -0.5341082134700881,
          -0.1847502438809056,
          -0.1305292412923166,
          -0.11690594635263213,
          -0.1660552927182177,
          -0.15669575990254955,
          -0.046433423698722415,
          -0.5341082134700881,
          -0.056121334393736726,
          -0.09938955967049909,
          -0.09444330257178662,
          -0.0873349699144984,
          -0.04015914861817217,
          -0.0890965785577165,
          -0.0022489148208832735,
          -0.02625063668066363,
          -0.030442870632571308,
          -0.056121334393736726,
          -0.02166330066115492,
          -0.5341082134700881,
          -0.11089857127364433,
          -0.10926847006058381,
          -0.09547157346648946,
          -0.05381353713245873,
          -0.11696392950346045,
          -0.024474828578010664,
          -0.02625063668066363,
          -0.030442870632571308,
          -0.5341082134700881,
          -0.056121334393736726,
          -0.11089857127364433,
          -0.09656354518203268,
          -0.09547157346648946,
          -0.05381353713245873,
          -0.08597830223038122,
          -0.024474828578010664,
          -0.030442870632571308,
          -0.056121334393736726,
          -0.11089857127364433,
          -0.1137136718035082,
          -0.09520270492773629,
          -0.013232266943016654,
          -0.08597830223038122,
          -0.05381353713245873,
          -0.02691929476846361,
          -0.056121334393736726,
          -0.08768209159573657,
          -0.1442799520289276,
          -0.06478124892072623,
          -0.5341082134700881,
          -0.000185885058697424,
          -0.08768209159573657,
          -0.1442799520289276,
          -0.06478124892072623,
          -0.5341082134700881,
          -0.000185885058697424,
          -0.07960010565465514,
          -0.03651360988434249,
          -0.06379140962878815,
          -0.5341082134700881,
          -0.006599770320717975,
          -0.016361355115310925,
          -0.5341082134700881,
          -0.03456075934632793,
          -0.5341082134700881,
          -0.022671354799465224,
          -0.0906733961522975,
          -0.022671354799465224,
          -0.0906733961522975,
          -1.5617802936001992,
          -0.39654053779667975,
          -1.5617802936001992,
          -0.39654053779667975
         ]
        }
       ],
       "layout": {
        "autosize": false,
        "height": 550,
        "scene": {
         "aspectmode": "manual",
         "aspectratio": {
          "x": 1,
          "y": 1,
          "z": 0.7
         },
         "xaxis": {
          "backgroundcolor": "rgb(230, 230,230)",
          "gridcolor": "rgb(255, 255, 255)",
          "showbackground": true,
          "zerolinecolor": "rgb(255, 255, 255)"
         },
         "yaxis": {
          "backgroundcolor": "rgb(230, 230,230)",
          "gridcolor": "rgb(255, 255, 255)",
          "showbackground": true,
          "zerolinecolor": "rgb(255, 255, 255)"
         },
         "zaxis": {
          "backgroundcolor": "rgb(230, 230,230)",
          "gridcolor": "rgb(255, 255, 255)",
          "showbackground": true,
          "zerolinecolor": "rgb(255, 255, 255)"
         }
        },
        "template": {
         "data": {
          "bar": [
           {
            "error_x": {
             "color": "#2a3f5f"
            },
            "error_y": {
             "color": "#2a3f5f"
            },
            "marker": {
             "line": {
              "color": "#E5ECF6",
              "width": 0.5
             }
            },
            "type": "bar"
           }
          ],
          "barpolar": [
           {
            "marker": {
             "line": {
              "color": "#E5ECF6",
              "width": 0.5
             }
            },
            "type": "barpolar"
           }
          ],
          "carpet": [
           {
            "aaxis": {
             "endlinecolor": "#2a3f5f",
             "gridcolor": "white",
             "linecolor": "white",
             "minorgridcolor": "white",
             "startlinecolor": "#2a3f5f"
            },
            "baxis": {
             "endlinecolor": "#2a3f5f",
             "gridcolor": "white",
             "linecolor": "white",
             "minorgridcolor": "white",
             "startlinecolor": "#2a3f5f"
            },
            "type": "carpet"
           }
          ],
          "choropleth": [
           {
            "colorbar": {
             "outlinewidth": 0,
             "ticks": ""
            },
            "type": "choropleth"
           }
          ],
          "contour": [
           {
            "colorbar": {
             "outlinewidth": 0,
             "ticks": ""
            },
            "colorscale": [
             [
              0,
              "#0d0887"
             ],
             [
              0.1111111111111111,
              "#46039f"
             ],
             [
              0.2222222222222222,
              "#7201a8"
             ],
             [
              0.3333333333333333,
              "#9c179e"
             ],
             [
              0.4444444444444444,
              "#bd3786"
             ],
             [
              0.5555555555555556,
              "#d8576b"
             ],
             [
              0.6666666666666666,
              "#ed7953"
             ],
             [
              0.7777777777777778,
              "#fb9f3a"
             ],
             [
              0.8888888888888888,
              "#fdca26"
             ],
             [
              1,
              "#f0f921"
             ]
            ],
            "type": "contour"
           }
          ],
          "contourcarpet": [
           {
            "colorbar": {
             "outlinewidth": 0,
             "ticks": ""
            },
            "type": "contourcarpet"
           }
          ],
          "heatmap": [
           {
            "colorbar": {
             "outlinewidth": 0,
             "ticks": ""
            },
            "colorscale": [
             [
              0,
              "#0d0887"
             ],
             [
              0.1111111111111111,
              "#46039f"
             ],
             [
              0.2222222222222222,
              "#7201a8"
             ],
             [
              0.3333333333333333,
              "#9c179e"
             ],
             [
              0.4444444444444444,
              "#bd3786"
             ],
             [
              0.5555555555555556,
              "#d8576b"
             ],
             [
              0.6666666666666666,
              "#ed7953"
             ],
             [
              0.7777777777777778,
              "#fb9f3a"
             ],
             [
              0.8888888888888888,
              "#fdca26"
             ],
             [
              1,
              "#f0f921"
             ]
            ],
            "type": "heatmap"
           }
          ],
          "heatmapgl": [
           {
            "colorbar": {
             "outlinewidth": 0,
             "ticks": ""
            },
            "colorscale": [
             [
              0,
              "#0d0887"
             ],
             [
              0.1111111111111111,
              "#46039f"
             ],
             [
              0.2222222222222222,
              "#7201a8"
             ],
             [
              0.3333333333333333,
              "#9c179e"
             ],
             [
              0.4444444444444444,
              "#bd3786"
             ],
             [
              0.5555555555555556,
              "#d8576b"
             ],
             [
              0.6666666666666666,
              "#ed7953"
             ],
             [
              0.7777777777777778,
              "#fb9f3a"
             ],
             [
              0.8888888888888888,
              "#fdca26"
             ],
             [
              1,
              "#f0f921"
             ]
            ],
            "type": "heatmapgl"
           }
          ],
          "histogram": [
           {
            "marker": {
             "colorbar": {
              "outlinewidth": 0,
              "ticks": ""
             }
            },
            "type": "histogram"
           }
          ],
          "histogram2d": [
           {
            "colorbar": {
             "outlinewidth": 0,
             "ticks": ""
            },
            "colorscale": [
             [
              0,
              "#0d0887"
             ],
             [
              0.1111111111111111,
              "#46039f"
             ],
             [
              0.2222222222222222,
              "#7201a8"
             ],
             [
              0.3333333333333333,
              "#9c179e"
             ],
             [
              0.4444444444444444,
              "#bd3786"
             ],
             [
              0.5555555555555556,
              "#d8576b"
             ],
             [
              0.6666666666666666,
              "#ed7953"
             ],
             [
              0.7777777777777778,
              "#fb9f3a"
             ],
             [
              0.8888888888888888,
              "#fdca26"
             ],
             [
              1,
              "#f0f921"
             ]
            ],
            "type": "histogram2d"
           }
          ],
          "histogram2dcontour": [
           {
            "colorbar": {
             "outlinewidth": 0,
             "ticks": ""
            },
            "colorscale": [
             [
              0,
              "#0d0887"
             ],
             [
              0.1111111111111111,
              "#46039f"
             ],
             [
              0.2222222222222222,
              "#7201a8"
             ],
             [
              0.3333333333333333,
              "#9c179e"
             ],
             [
              0.4444444444444444,
              "#bd3786"
             ],
             [
              0.5555555555555556,
              "#d8576b"
             ],
             [
              0.6666666666666666,
              "#ed7953"
             ],
             [
              0.7777777777777778,
              "#fb9f3a"
             ],
             [
              0.8888888888888888,
              "#fdca26"
             ],
             [
              1,
              "#f0f921"
             ]
            ],
            "type": "histogram2dcontour"
           }
          ],
          "mesh3d": [
           {
            "colorbar": {
             "outlinewidth": 0,
             "ticks": ""
            },
            "type": "mesh3d"
           }
          ],
          "parcoords": [
           {
            "line": {
             "colorbar": {
              "outlinewidth": 0,
              "ticks": ""
             }
            },
            "type": "parcoords"
           }
          ],
          "scatter": [
           {
            "marker": {
             "colorbar": {
              "outlinewidth": 0,
              "ticks": ""
             }
            },
            "type": "scatter"
           }
          ],
          "scatter3d": [
           {
            "line": {
             "colorbar": {
              "outlinewidth": 0,
              "ticks": ""
             }
            },
            "marker": {
             "colorbar": {
              "outlinewidth": 0,
              "ticks": ""
             }
            },
            "type": "scatter3d"
           }
          ],
          "scattercarpet": [
           {
            "marker": {
             "colorbar": {
              "outlinewidth": 0,
              "ticks": ""
             }
            },
            "type": "scattercarpet"
           }
          ],
          "scattergeo": [
           {
            "marker": {
             "colorbar": {
              "outlinewidth": 0,
              "ticks": ""
             }
            },
            "type": "scattergeo"
           }
          ],
          "scattergl": [
           {
            "marker": {
             "colorbar": {
              "outlinewidth": 0,
              "ticks": ""
             }
            },
            "type": "scattergl"
           }
          ],
          "scattermapbox": [
           {
            "marker": {
             "colorbar": {
              "outlinewidth": 0,
              "ticks": ""
             }
            },
            "type": "scattermapbox"
           }
          ],
          "scatterpolar": [
           {
            "marker": {
             "colorbar": {
              "outlinewidth": 0,
              "ticks": ""
             }
            },
            "type": "scatterpolar"
           }
          ],
          "scatterpolargl": [
           {
            "marker": {
             "colorbar": {
              "outlinewidth": 0,
              "ticks": ""
             }
            },
            "type": "scatterpolargl"
           }
          ],
          "scatterternary": [
           {
            "marker": {
             "colorbar": {
              "outlinewidth": 0,
              "ticks": ""
             }
            },
            "type": "scatterternary"
           }
          ],
          "surface": [
           {
            "colorbar": {
             "outlinewidth": 0,
             "ticks": ""
            },
            "colorscale": [
             [
              0,
              "#0d0887"
             ],
             [
              0.1111111111111111,
              "#46039f"
             ],
             [
              0.2222222222222222,
              "#7201a8"
             ],
             [
              0.3333333333333333,
              "#9c179e"
             ],
             [
              0.4444444444444444,
              "#bd3786"
             ],
             [
              0.5555555555555556,
              "#d8576b"
             ],
             [
              0.6666666666666666,
              "#ed7953"
             ],
             [
              0.7777777777777778,
              "#fb9f3a"
             ],
             [
              0.8888888888888888,
              "#fdca26"
             ],
             [
              1,
              "#f0f921"
             ]
            ],
            "type": "surface"
           }
          ],
          "table": [
           {
            "cells": {
             "fill": {
              "color": "#EBF0F8"
             },
             "line": {
              "color": "white"
             }
            },
            "header": {
             "fill": {
              "color": "#C8D4E3"
             },
             "line": {
              "color": "white"
             }
            },
            "type": "table"
           }
          ]
         },
         "layout": {
          "annotationdefaults": {
           "arrowcolor": "#2a3f5f",
           "arrowhead": 0,
           "arrowwidth": 1
          },
          "colorscale": {
           "diverging": [
            [
             0,
             "#8e0152"
            ],
            [
             0.1,
             "#c51b7d"
            ],
            [
             0.2,
             "#de77ae"
            ],
            [
             0.3,
             "#f1b6da"
            ],
            [
             0.4,
             "#fde0ef"
            ],
            [
             0.5,
             "#f7f7f7"
            ],
            [
             0.6,
             "#e6f5d0"
            ],
            [
             0.7,
             "#b8e186"
            ],
            [
             0.8,
             "#7fbc41"
            ],
            [
             0.9,
             "#4d9221"
            ],
            [
             1,
             "#276419"
            ]
           ],
           "sequential": [
            [
             0,
             "#0d0887"
            ],
            [
             0.1111111111111111,
             "#46039f"
            ],
            [
             0.2222222222222222,
             "#7201a8"
            ],
            [
             0.3333333333333333,
             "#9c179e"
            ],
            [
             0.4444444444444444,
             "#bd3786"
            ],
            [
             0.5555555555555556,
             "#d8576b"
            ],
            [
             0.6666666666666666,
             "#ed7953"
            ],
            [
             0.7777777777777778,
             "#fb9f3a"
            ],
            [
             0.8888888888888888,
             "#fdca26"
            ],
            [
             1,
             "#f0f921"
            ]
           ],
           "sequentialminus": [
            [
             0,
             "#0d0887"
            ],
            [
             0.1111111111111111,
             "#46039f"
            ],
            [
             0.2222222222222222,
             "#7201a8"
            ],
            [
             0.3333333333333333,
             "#9c179e"
            ],
            [
             0.4444444444444444,
             "#bd3786"
            ],
            [
             0.5555555555555556,
             "#d8576b"
            ],
            [
             0.6666666666666666,
             "#ed7953"
            ],
            [
             0.7777777777777778,
             "#fb9f3a"
            ],
            [
             0.8888888888888888,
             "#fdca26"
            ],
            [
             1,
             "#f0f921"
            ]
           ]
          },
          "colorway": [
           "#636efa",
           "#EF553B",
           "#00cc96",
           "#ab63fa",
           "#FFA15A",
           "#19d3f3",
           "#FF6692",
           "#B6E880",
           "#FF97FF",
           "#FECB52"
          ],
          "font": {
           "color": "#2a3f5f"
          },
          "geo": {
           "bgcolor": "white",
           "lakecolor": "white",
           "landcolor": "#E5ECF6",
           "showlakes": true,
           "showland": true,
           "subunitcolor": "white"
          },
          "hoverlabel": {
           "align": "left"
          },
          "hovermode": "closest",
          "mapbox": {
           "style": "light"
          },
          "paper_bgcolor": "white",
          "plot_bgcolor": "#E5ECF6",
          "polar": {
           "angularaxis": {
            "gridcolor": "white",
            "linecolor": "white",
            "ticks": ""
           },
           "bgcolor": "#E5ECF6",
           "radialaxis": {
            "gridcolor": "white",
            "linecolor": "white",
            "ticks": ""
           }
          },
          "scene": {
           "xaxis": {
            "backgroundcolor": "#E5ECF6",
            "gridcolor": "white",
            "gridwidth": 2,
            "linecolor": "white",
            "showbackground": true,
            "ticks": "",
            "zerolinecolor": "white"
           },
           "yaxis": {
            "backgroundcolor": "#E5ECF6",
            "gridcolor": "white",
            "gridwidth": 2,
            "linecolor": "white",
            "showbackground": true,
            "ticks": "",
            "zerolinecolor": "white"
           },
           "zaxis": {
            "backgroundcolor": "#E5ECF6",
            "gridcolor": "white",
            "gridwidth": 2,
            "linecolor": "white",
            "showbackground": true,
            "ticks": "",
            "zerolinecolor": "white"
           }
          },
          "shapedefaults": {
           "line": {
            "color": "#2a3f5f"
           }
          },
          "ternary": {
           "aaxis": {
            "gridcolor": "white",
            "linecolor": "white",
            "ticks": ""
           },
           "baxis": {
            "gridcolor": "white",
            "linecolor": "white",
            "ticks": ""
           },
           "bgcolor": "#E5ECF6",
           "caxis": {
            "gridcolor": "white",
            "linecolor": "white",
            "ticks": ""
           }
          },
          "title": {
           "x": 0.05
          },
          "xaxis": {
           "automargin": true,
           "gridcolor": "white",
           "linecolor": "white",
           "ticks": "",
           "zerolinecolor": "white",
           "zerolinewidth": 2
          },
          "yaxis": {
           "automargin": true,
           "gridcolor": "white",
           "linecolor": "white",
           "ticks": "",
           "zerolinecolor": "white",
           "zerolinewidth": 2
          }
         }
        },
        "title": {
         "text": "Average Return by Tweeter Data"
        },
        "width": 800
       }
      },
      "text/html": [
       "<div>\n",
       "        \n",
       "        \n",
       "            <div id=\"c4d1cc84-5d20-47f2-b3ae-8a56ea76dd45\" class=\"plotly-graph-div\" style=\"height:550px; width:800px;\"></div>\n",
       "            <script type=\"text/javascript\">\n",
       "                require([\"plotly\"], function(Plotly) {\n",
       "                    window.PLOTLYENV=window.PLOTLYENV || {};\n",
       "                    \n",
       "                if (document.getElementById(\"c4d1cc84-5d20-47f2-b3ae-8a56ea76dd45\")) {\n",
       "                    Plotly.newPlot(\n",
       "                        'c4d1cc84-5d20-47f2-b3ae-8a56ea76dd45',\n",
       "                        [{\"marker\": {\"color\": \"blue\", \"line\": {\"width\": 0}, \"size\": 3}, \"mode\": \"markers\", \"name\": \"Above Benchmark Return\", \"type\": \"scatter3d\", \"x\": [0.35, 0.35, 0.35, 0.35, 0.35, 0.35, 0.35, 0.35, 0.35, 0.35, 0.35, 0.35, 0.35, 0.35, 0.35, 0.35, 0.35, 0.35, 0.35, 0.35, 0.35, 0.35, 0.35, 0.35, 0.375, 0.375, 0.375, 0.375, 0.375, 0.375, 0.375, 0.375, 0.375, 0.375, 0.375, 0.375, 0.375, 0.375, 0.375, 0.375, 0.375, 0.375, 0.375, 0.375, 0.375, 0.375, 0.375, 0.375, 0.375, 0.375, 0.4, 0.4, 0.4, 0.4, 0.4, 0.4, 0.4, 0.4, 0.4, 0.4, 0.4, 0.4, 0.4, 0.4, 0.4, 0.4, 0.4, 0.4, 0.4, 0.4, 0.4, 0.4, 0.425, 0.425, 0.425, 0.425, 0.425, 0.425, 0.425, 0.425, 0.425, 0.425, 0.425, 0.425, 0.425, 0.425, 0.425, 0.425, 0.425, 0.425, 0.425, 0.425, 0.425, 0.425, 0.425, 0.45, 0.45, 0.45, 0.45, 0.45, 0.45, 0.45, 0.45, 0.45, 0.45, 0.45, 0.45, 0.45, 0.45, 0.45, 0.45, 0.45, 0.45, 0.45, 0.45, 0.45, 0.45, 0.45, 0.45, 0.45, 0.475, 0.475, 0.475, 0.475, 0.475, 0.475, 0.475, 0.475, 0.475, 0.475, 0.475, 0.475, 0.475, 0.475, 0.475, 0.475, 0.475, 0.475, 0.475, 0.475, 0.475, 0.475, 0.475, 0.475, 0.5, 0.5, 0.5, 0.5, 0.5, 0.5, 0.5, 0.5, 0.5, 0.5, 0.5, 0.5, 0.5, 0.5, 0.5, 0.5, 0.5, 0.5, 0.5, 0.5, 0.525, 0.525, 0.525, 0.525, 0.525, 0.525, 0.525, 0.525, 0.525, 0.525, 0.525, 0.525, 0.525, 0.525, 0.525, 0.525, 0.525, 0.525, 0.525, 0.525, 0.55, 0.55, 0.55, 0.55, 0.55, 0.55, 0.55, 0.55, 0.55, 0.55, 0.55, 0.55, 0.55, 0.55, 0.55, 0.55, 0.55, 0.55, 0.55, 0.55, 0.55, 0.55, 0.55, 0.575, 0.575, 0.575, 0.575, 0.575, 0.575, 0.575, 0.575, 0.575, 0.575, 0.575, 0.575, 0.575, 0.575, 0.575, 0.575, 0.575, 0.575, 0.575, 0.575, 0.575, 0.575, 0.575, 0.575, 0.6, 0.6, 0.6, 0.6, 0.6, 0.6, 0.6, 0.6, 0.6, 0.6, 0.6, 0.6, 0.6, 0.6, 0.6, 0.6, 0.6, 0.6, 0.6, 0.6, 0.625, 0.625, 0.625, 0.625, 0.625, 0.625, 0.625, 0.625, 0.625, 0.625, 0.625, 0.625, 0.625, 0.625, 0.625, 0.625, 0.625, 0.65, 0.65, 0.65, 0.65, 0.65, 0.65, 0.65, 0.65, 0.65, 0.65, 0.65, 0.65, 0.65, 0.65, 0.65, 0.65, 0.65, 0.675, 0.675, 0.675, 0.675, 0.675, 0.675, 0.675, 0.675, 0.675, 0.675, 0.675, 0.7, 0.7, 0.7, 0.7, 0.7, 0.7, 0.7, 0.7, 0.7, 0.7], \"y\": [75, 14, 26, 8, 13, 16, 37, 9, 10, 65, 41, 12, 20, 18, 15, 11, 25, 45, 38, 62, 47, 33, 17, 39, 70, 14, 26, 8, 13, 16, 35, 9, 7, 27, 12, 38, 19, 15, 11, 10, 17, 24, 22, 42, 37, 61, 46, 25, 20, 29, 64, 13, 23, 14, 32, 6, 24, 12, 60, 36, 11, 17, 15, 16, 22, 20, 40, 33, 56, 43, 18, 27, 62, 13, 21, 30, 6, 22, 12, 59, 34, 24, 23, 11, 17, 15, 19, 39, 33, 56, 42, 18, 27, 16, 36, 60, 13, 20, 12, 29, 9, 6, 21, 57, 33, 23, 11, 17, 15, 61, 19, 38, 32, 53, 41, 24, 22, 18, 27, 35, 59, 13, 20, 12, 28, 9, 6, 21, 56, 32, 23, 11, 17, 15, 60, 18, 38, 31, 53, 40, 24, 22, 26, 35, 46, 11, 15, 4, 8, 10, 20, 6, 7, 17, 27, 9, 19, 13, 16, 14, 25, 36, 33, 22, 46, 11, 15, 4, 8, 10, 20, 6, 7, 17, 27, 9, 19, 13, 16, 14, 25, 36, 33, 22, 43, 11, 13, 4, 6, 10, 9, 17, 5, 14, 8, 37, 25, 18, 15, 12, 7, 23, 21, 31, 28, 19, 20, 42, 3, 11, 12, 4, 6, 10, 9, 15, 8, 5, 13, 7, 36, 24, 16, 17, 14, 21, 20, 29, 27, 18, 19, 2, 33, 3, 10, 9, 4, 5, 13, 6, 20, 12, 11, 7, 8, 19, 15, 23, 17, 14, 16, 30, 2, 8, 3, 4, 12, 28, 9, 6, 18, 21, 17, 16, 15, 11, 10, 7, 28, 2, 7, 3, 4, 8, 11, 27, 9, 6, 18, 20, 16, 15, 12, 10, 29, 5, 4, 1, 2, 10, 3, 6, 11, 8, 9, 7, 5, 4, 1, 2, 3, 8, 9, 7, 6, 10], \"z\": [0.49356386666002305, 0.12982704625842711, 0.060477765800940185, 0.11450725373614579, 0.2675074727753318, 0.33626511595270453, 0.22693861051199826, 0.0527367433068475, 0.06064869663178461, 0.9835587229571533, 0.38664312800847034, 0.04633380009883803, 0.23583775808830354, 0.47817585053540873, 0.16446557962787897, 0.08369084968974791, 0.16841114283947933, 0.3688230048998782, 0.23822979028360314, 0.5946649897848981, 0.48654608892498336, 0.08075675280685077, 0.41268250379332694, 0.3395105402855369, 0.49356386666002305, 0.12982704625842711, 0.12634031544802868, 0.11220088722730867, 0.19042581057799457, 0.46406153621669466, 0.22693861051199826, 0.04510302945468797, 0.013815863566265116, 0.013154290959520575, 0.1572644837228989, 0.38664312800847034, 0.3478101305752235, 0.16446557962787897, 0.07390235835828372, 0.06064869663178461, 0.47817585053540873, 0.26770763038415, 0.2575344330080155, 0.3688230048998782, 0.23822979028360314, 0.5946649897848981, 0.48654608892498336, 0.16841114283947933, 0.23583775808830354, 0.08075675280685077, 0.49356386666002305, 0.27822934028896756, 0.36867050397823564, 0.3451569839011116, 0.22693861051199826, 0.007087888710332127, 0.2923410366560795, 0.1522202221900363, 0.9835587229571533, 0.38664312800847034, 0.05700388525781739, 0.3478101305752235, 0.38272890144284183, 0.47817585053540873, 0.26770763038415, 0.2575344330080155, 0.3688230048998782, 0.23822979028360314, 0.5946649897848981, 0.48654608892498336, 0.23583775808830354, 0.08075675280685077, 0.49356386666002305, 0.3451569839011116, 0.36867050397823564, 0.22693861051199826, 0.007087888710332127, 0.42622819205710055, 0.25111047816237597, 0.9835587229571533, 0.26681071079092816, 0.24221697311636592, 0.3796663098916984, 0.05700388525781739, 0.3478101305752235, 0.3930253377978533, 0.2575344330080155, 0.3688230048998782, 0.23822979028360314, 0.5946649897848981, 0.48654608892498336, 0.23583775808830354, 0.08075675280685077, 0.47817585053540873, 0.38664312800847034, 2.2562282312358297, 0.3451569839011116, 0.3529405030535901, 0.39656511340952927, 0.22693861051199826, 0.02158389272941973, 0.03938983728877931, 0.42622819205710055, 0.9835587229571533, 0.26681071079092816, 0.37879725316040364, 0.09484771971840791, 0.3478101305752235, 0.47817585053540873, 0.49356386666002305, 0.2575344330080155, 0.3688230048998782, 0.23822979028360314, 0.5946649897848981, 0.48654608892498336, 0.24221697311636592, 0.32624314206009475, 0.23583775808830354, 0.08075675280685077, 0.38664312800847034, 2.2562282312358297, 0.3451569839011116, 0.3529405030535901, 0.39656511340952927, 0.22693861051199826, 0.02158389272941973, 0.03938983728877931, 0.42622819205710055, 0.9835587229571533, 0.26681071079092816, 0.37879725316040364, 0.09484771971840791, 0.3478101305752235, 0.47817585053540873, 0.49356386666002305, 0.2575344330080155, 0.3688230048998782, 0.23822979028360314, 0.5946649897848981, 0.48654608892498336, 0.24221697311636592, 0.32624314206009475, 0.08075675280685077, 0.38664312800847034, 0.49356386666002305, 0.4190734265605408, 0.35089352404957763, 0.11515321311821519, 0.13149007028118165, 0.3280538200218166, 0.22693861051199826, 0.04666661220579102, 0.08191980078470666, 0.21612485560377387, 0.3688230048998782, 0.16211041666427792, 0.1660961911576185, 0.47817585053540873, 0.15803890520579852, 0.508522296872846, 0.3395105402855369, 0.5946649897848981, 0.48654608892498336, 0.3157113683168722, 0.49356386666002305, 0.4190734265605408, 0.35089352404957763, 0.11515321311821519, 0.13149007028118165, 0.3280538200218166, 0.22693861051199826, 0.04666661220579102, 0.08191980078470666, 0.21612485560377387, 0.3688230048998782, 0.16211041666427792, 0.1660961911576185, 0.47817585053540873, 0.15803890520579852, 0.508522296872846, 0.3395105402855369, 0.5946649897848981, 0.48654608892498336, 0.3157113683168722, 0.49356386666002305, 0.456378277591708, 0.6450348103181891, 0.11465603669331537, 0.04933932157609419, 0.5346621103550988, 0.2528177112505377, 0.2851083461885602, 0.09982759342609078, 0.5976034312509807, 0.15413049229906464, 0.9835587229571533, 0.3688230048998782, 0.23849555877105613, 0.08880157651027898, 0.4510091467201913, 0.08893692874814159, 0.31750292223203885, 0.3395105402855369, 0.5946649897848981, 0.48654608892498336, 0.06432780104725297, 0.3157113683168722, 0.49356386666002305, 0.08406790803639919, 0.46826734938257686, 0.5728048999796627, 0.0881608348900683, 0.0487091538749839, 0.5794235966384947, 0.33037187725589257, 0.19379181942134344, 0.1798912625404825, 0.11842046247384579, 0.5976034312509807, 0.14708568534781916, 0.9835587229571533, 0.3688230048998782, 0.14374028282309223, 0.23849555877105613, 0.30053819107961577, 0.31750292223203885, 0.3395105402855369, 0.5946649897848981, 0.48654608892498336, 0.22693861051199826, 0.3157113683168722, 0.0310480899669617, 0.49356386666002305, 0.1154352522970991, 0.5976034312509807, 0.5494886738227058, 0.3023538674721521, 0.28859367057929824, 0.23849555877105613, 0.18811562767114215, 0.48654608892498336, 0.5853165969243546, 0.6911873406511839, 0.28540707915584757, 0.3766055600820867, 0.31750292223203885, 0.4298409006285319, 0.5946649897848981, 0.3395105402855369, 0.40215699989571574, 0.5411583573352429, 0.49356386666002305, 0.12242685809442234, 0.3413074376723211, 0.1630366082657201, 0.11655853521085914, 0.4677448065994386, 0.9180200787658079, 0.39087368277788737, 0.025309397675239566, 0.4472229024101761, 0.5455110066413891, 0.4549463964518173, 0.38689042274917035, 0.5832738084140282, 0.6105858675716258, 0.4763187998875403, 0.03807603115362391, 2.1579202649488116, 0.12242685809442234, 0.13015706621716452, 0.1630366082657201, 0.11655853521085914, 0.5183511458711768, 0.8011178342501121, 0.9180200787658079, 0.4763187998875403, 0.025309397675239566, 0.4472229024101761, 0.5455110066413891, 0.4549463964518173, 0.38689042274917035, 0.4677448065994386, 0.6105858675716258, 0.49356386666002305, 0.02276388664380346, 0.0790837648634625, 0.038802952509021604, 0.10646273894983119, 0.31750292223203885, 0.057323537082629376, 0.4217180055002932, 0.48654608892498336, 0.6472386934732207, 0.10518232892245605, 0.448609065396224, 0.3438828356791193, 0.11286335821788777, 0.11649793279976371, 0.169123992734303, 0.16376245403147835, 0.31750292223203885, 0.3688230048998782, 0.47978289344436836, 0.42171800550029326, 0.48654608892498336]}, {\"marker\": {\"color\": \"green\", \"line\": {\"width\": 0}, \"size\": 3}, \"mode\": \"markers\", \"name\": \"Positive Return\", \"type\": \"scatter3d\", \"x\": [0.4, 0.425, 0.45, 0.475], \"y\": [10, 10, 10, 10], \"z\": [0.0063928002711257275, 0.0063928002711257275, 0.0063928002711257275, 0.0063928002711257275]}, {\"marker\": {\"color\": \"red\", \"line\": {\"width\": 0}, \"size\": 3}, \"mode\": \"markers\", \"name\": \"Negative Return\", \"type\": \"scatter3d\", \"x\": [0.35, 0.35, 0.35, 0.35, 0.35, 0.35, 0.35, 0.35, 0.35, 0.35, 0.375, 0.375, 0.375, 0.375, 0.375, 0.375, 0.375, 0.375, 0.4, 0.4, 0.4, 0.4, 0.4, 0.4, 0.4, 0.4, 0.4, 0.4, 0.4, 0.425, 0.425, 0.425, 0.425, 0.425, 0.425, 0.425, 0.425, 0.425, 0.425, 0.45, 0.45, 0.45, 0.45, 0.45, 0.45, 0.45, 0.45, 0.475, 0.475, 0.475, 0.475, 0.475, 0.475, 0.475, 0.475, 0.5, 0.5, 0.5, 0.5, 0.5, 0.525, 0.525, 0.525, 0.525, 0.525, 0.55, 0.55, 0.55, 0.55, 0.575, 0.575, 0.575, 0.6, 0.6, 0.625, 0.625, 0.65, 0.65, 0.675, 0.675, 0.7, 0.7], \"y\": [2, 3, 1, 6, 4, 7, 29, 5, 27, 66, 2, 3, 1, 5, 6, 4, 63, 28, 2, 3, 1, 5, 8, 4, 9, 7, 26, 25, 61, 2, 3, 1, 5, 8, 4, 9, 7, 61, 25, 2, 3, 1, 5, 8, 4, 7, 25, 2, 3, 1, 4, 8, 5, 7, 25, 2, 3, 1, 42, 5, 2, 3, 1, 42, 5, 2, 3, 1, 39, 2, 1, 38, 1, 31, 1, 5, 1, 5, 14, 13, 13, 12], \"z\": [-0.21831164914720222, -0.1793119375675151, -0.14943076700992994, -0.2567724305215267, -0.13511027460060243, -0.18825529296832408, -0.056121334393736726, -0.25610393521904934, -0.00696859965584921, -0.5341082134700881, -0.1847502438809056, -0.1305292412923166, -0.11690594635263213, -0.1660552927182177, -0.15669575990254955, -0.046433423698722415, -0.5341082134700881, -0.056121334393736726, -0.09938955967049909, -0.09444330257178662, -0.0873349699144984, -0.04015914861817217, -0.0890965785577165, -0.0022489148208832735, -0.02625063668066363, -0.030442870632571308, -0.056121334393736726, -0.02166330066115492, -0.5341082134700881, -0.11089857127364433, -0.10926847006058381, -0.09547157346648946, -0.05381353713245873, -0.11696392950346045, -0.024474828578010664, -0.02625063668066363, -0.030442870632571308, -0.5341082134700881, -0.056121334393736726, -0.11089857127364433, -0.09656354518203268, -0.09547157346648946, -0.05381353713245873, -0.08597830223038122, -0.024474828578010664, -0.030442870632571308, -0.056121334393736726, -0.11089857127364433, -0.1137136718035082, -0.09520270492773629, -0.013232266943016654, -0.08597830223038122, -0.05381353713245873, -0.02691929476846361, -0.056121334393736726, -0.08768209159573657, -0.1442799520289276, -0.06478124892072623, -0.5341082134700881, -0.000185885058697424, -0.08768209159573657, -0.1442799520289276, -0.06478124892072623, -0.5341082134700881, -0.000185885058697424, -0.07960010565465514, -0.03651360988434249, -0.06379140962878815, -0.5341082134700881, -0.006599770320717975, -0.016361355115310925, -0.5341082134700881, -0.03456075934632793, -0.5341082134700881, -0.022671354799465224, -0.0906733961522975, -0.022671354799465224, -0.0906733961522975, -1.5617802936001992, -0.39654053779667975, -1.5617802936001992, -0.39654053779667975]}],\n",
       "                        {\"autosize\": false, \"height\": 550, \"scene\": {\"aspectmode\": \"manual\", \"aspectratio\": {\"x\": 1, \"y\": 1, \"z\": 0.7}, \"xaxis\": {\"backgroundcolor\": \"rgb(230, 230,230)\", \"gridcolor\": \"rgb(255, 255, 255)\", \"showbackground\": true, \"zerolinecolor\": \"rgb(255, 255, 255)\"}, \"yaxis\": {\"backgroundcolor\": \"rgb(230, 230,230)\", \"gridcolor\": \"rgb(255, 255, 255)\", \"showbackground\": true, \"zerolinecolor\": \"rgb(255, 255, 255)\"}, \"zaxis\": {\"backgroundcolor\": \"rgb(230, 230,230)\", \"gridcolor\": \"rgb(255, 255, 255)\", \"showbackground\": true, \"zerolinecolor\": \"rgb(255, 255, 255)\"}}, \"template\": {\"data\": {\"bar\": [{\"error_x\": {\"color\": \"#2a3f5f\"}, \"error_y\": {\"color\": \"#2a3f5f\"}, \"marker\": {\"line\": {\"color\": \"#E5ECF6\", \"width\": 0.5}}, \"type\": \"bar\"}], \"barpolar\": [{\"marker\": {\"line\": {\"color\": \"#E5ECF6\", \"width\": 0.5}}, \"type\": \"barpolar\"}], \"carpet\": [{\"aaxis\": {\"endlinecolor\": \"#2a3f5f\", \"gridcolor\": \"white\", \"linecolor\": \"white\", \"minorgridcolor\": \"white\", \"startlinecolor\": \"#2a3f5f\"}, \"baxis\": {\"endlinecolor\": \"#2a3f5f\", \"gridcolor\": \"white\", \"linecolor\": \"white\", \"minorgridcolor\": \"white\", \"startlinecolor\": \"#2a3f5f\"}, \"type\": \"carpet\"}], \"choropleth\": [{\"colorbar\": {\"outlinewidth\": 0, \"ticks\": \"\"}, \"type\": \"choropleth\"}], \"contour\": [{\"colorbar\": {\"outlinewidth\": 0, \"ticks\": \"\"}, \"colorscale\": [[0.0, \"#0d0887\"], [0.1111111111111111, \"#46039f\"], [0.2222222222222222, \"#7201a8\"], [0.3333333333333333, \"#9c179e\"], [0.4444444444444444, \"#bd3786\"], [0.5555555555555556, \"#d8576b\"], [0.6666666666666666, \"#ed7953\"], [0.7777777777777778, \"#fb9f3a\"], [0.8888888888888888, \"#fdca26\"], [1.0, \"#f0f921\"]], \"type\": \"contour\"}], \"contourcarpet\": [{\"colorbar\": {\"outlinewidth\": 0, \"ticks\": \"\"}, \"type\": \"contourcarpet\"}], \"heatmap\": [{\"colorbar\": {\"outlinewidth\": 0, \"ticks\": \"\"}, \"colorscale\": [[0.0, \"#0d0887\"], [0.1111111111111111, \"#46039f\"], [0.2222222222222222, \"#7201a8\"], [0.3333333333333333, \"#9c179e\"], [0.4444444444444444, \"#bd3786\"], [0.5555555555555556, \"#d8576b\"], [0.6666666666666666, \"#ed7953\"], [0.7777777777777778, \"#fb9f3a\"], [0.8888888888888888, \"#fdca26\"], [1.0, \"#f0f921\"]], \"type\": \"heatmap\"}], \"heatmapgl\": [{\"colorbar\": {\"outlinewidth\": 0, \"ticks\": \"\"}, \"colorscale\": [[0.0, \"#0d0887\"], [0.1111111111111111, \"#46039f\"], [0.2222222222222222, \"#7201a8\"], [0.3333333333333333, \"#9c179e\"], [0.4444444444444444, \"#bd3786\"], [0.5555555555555556, \"#d8576b\"], [0.6666666666666666, \"#ed7953\"], [0.7777777777777778, \"#fb9f3a\"], [0.8888888888888888, \"#fdca26\"], [1.0, \"#f0f921\"]], \"type\": \"heatmapgl\"}], \"histogram\": [{\"marker\": {\"colorbar\": {\"outlinewidth\": 0, \"ticks\": \"\"}}, \"type\": \"histogram\"}], \"histogram2d\": [{\"colorbar\": {\"outlinewidth\": 0, \"ticks\": \"\"}, \"colorscale\": [[0.0, \"#0d0887\"], [0.1111111111111111, \"#46039f\"], [0.2222222222222222, \"#7201a8\"], [0.3333333333333333, \"#9c179e\"], [0.4444444444444444, \"#bd3786\"], [0.5555555555555556, \"#d8576b\"], [0.6666666666666666, \"#ed7953\"], [0.7777777777777778, \"#fb9f3a\"], [0.8888888888888888, \"#fdca26\"], [1.0, \"#f0f921\"]], \"type\": \"histogram2d\"}], \"histogram2dcontour\": [{\"colorbar\": {\"outlinewidth\": 0, \"ticks\": \"\"}, \"colorscale\": [[0.0, \"#0d0887\"], [0.1111111111111111, \"#46039f\"], [0.2222222222222222, \"#7201a8\"], [0.3333333333333333, \"#9c179e\"], [0.4444444444444444, \"#bd3786\"], [0.5555555555555556, \"#d8576b\"], [0.6666666666666666, \"#ed7953\"], [0.7777777777777778, \"#fb9f3a\"], [0.8888888888888888, \"#fdca26\"], [1.0, \"#f0f921\"]], \"type\": \"histogram2dcontour\"}], \"mesh3d\": [{\"colorbar\": {\"outlinewidth\": 0, \"ticks\": \"\"}, \"type\": \"mesh3d\"}], \"parcoords\": [{\"line\": {\"colorbar\": {\"outlinewidth\": 0, \"ticks\": \"\"}}, \"type\": \"parcoords\"}], \"scatter\": [{\"marker\": {\"colorbar\": {\"outlinewidth\": 0, \"ticks\": \"\"}}, \"type\": \"scatter\"}], \"scatter3d\": [{\"line\": {\"colorbar\": {\"outlinewidth\": 0, \"ticks\": \"\"}}, \"marker\": {\"colorbar\": {\"outlinewidth\": 0, \"ticks\": \"\"}}, \"type\": \"scatter3d\"}], \"scattercarpet\": [{\"marker\": {\"colorbar\": {\"outlinewidth\": 0, \"ticks\": \"\"}}, \"type\": \"scattercarpet\"}], \"scattergeo\": [{\"marker\": {\"colorbar\": {\"outlinewidth\": 0, \"ticks\": \"\"}}, \"type\": \"scattergeo\"}], \"scattergl\": [{\"marker\": {\"colorbar\": {\"outlinewidth\": 0, \"ticks\": \"\"}}, \"type\": \"scattergl\"}], \"scattermapbox\": [{\"marker\": {\"colorbar\": {\"outlinewidth\": 0, \"ticks\": \"\"}}, \"type\": \"scattermapbox\"}], \"scatterpolar\": [{\"marker\": {\"colorbar\": {\"outlinewidth\": 0, \"ticks\": \"\"}}, \"type\": \"scatterpolar\"}], \"scatterpolargl\": [{\"marker\": {\"colorbar\": {\"outlinewidth\": 0, \"ticks\": \"\"}}, \"type\": \"scatterpolargl\"}], \"scatterternary\": [{\"marker\": {\"colorbar\": {\"outlinewidth\": 0, \"ticks\": \"\"}}, \"type\": \"scatterternary\"}], \"surface\": [{\"colorbar\": {\"outlinewidth\": 0, \"ticks\": \"\"}, \"colorscale\": [[0.0, \"#0d0887\"], [0.1111111111111111, \"#46039f\"], [0.2222222222222222, \"#7201a8\"], [0.3333333333333333, \"#9c179e\"], [0.4444444444444444, \"#bd3786\"], [0.5555555555555556, \"#d8576b\"], [0.6666666666666666, \"#ed7953\"], [0.7777777777777778, \"#fb9f3a\"], [0.8888888888888888, \"#fdca26\"], [1.0, \"#f0f921\"]], \"type\": \"surface\"}], \"table\": [{\"cells\": {\"fill\": {\"color\": \"#EBF0F8\"}, \"line\": {\"color\": \"white\"}}, \"header\": {\"fill\": {\"color\": \"#C8D4E3\"}, \"line\": {\"color\": \"white\"}}, \"type\": \"table\"}]}, \"layout\": {\"annotationdefaults\": {\"arrowcolor\": \"#2a3f5f\", \"arrowhead\": 0, \"arrowwidth\": 1}, \"colorscale\": {\"diverging\": [[0, \"#8e0152\"], [0.1, \"#c51b7d\"], [0.2, \"#de77ae\"], [0.3, \"#f1b6da\"], [0.4, \"#fde0ef\"], [0.5, \"#f7f7f7\"], [0.6, \"#e6f5d0\"], [0.7, \"#b8e186\"], [0.8, \"#7fbc41\"], [0.9, \"#4d9221\"], [1, \"#276419\"]], \"sequential\": [[0.0, \"#0d0887\"], [0.1111111111111111, \"#46039f\"], [0.2222222222222222, \"#7201a8\"], [0.3333333333333333, \"#9c179e\"], [0.4444444444444444, \"#bd3786\"], [0.5555555555555556, \"#d8576b\"], [0.6666666666666666, \"#ed7953\"], [0.7777777777777778, \"#fb9f3a\"], [0.8888888888888888, \"#fdca26\"], [1.0, \"#f0f921\"]], \"sequentialminus\": [[0.0, \"#0d0887\"], [0.1111111111111111, \"#46039f\"], [0.2222222222222222, \"#7201a8\"], [0.3333333333333333, \"#9c179e\"], [0.4444444444444444, \"#bd3786\"], [0.5555555555555556, \"#d8576b\"], [0.6666666666666666, \"#ed7953\"], [0.7777777777777778, \"#fb9f3a\"], [0.8888888888888888, \"#fdca26\"], [1.0, \"#f0f921\"]]}, \"colorway\": [\"#636efa\", \"#EF553B\", \"#00cc96\", \"#ab63fa\", \"#FFA15A\", \"#19d3f3\", \"#FF6692\", \"#B6E880\", \"#FF97FF\", \"#FECB52\"], \"font\": {\"color\": \"#2a3f5f\"}, \"geo\": {\"bgcolor\": \"white\", \"lakecolor\": \"white\", \"landcolor\": \"#E5ECF6\", \"showlakes\": true, \"showland\": true, \"subunitcolor\": \"white\"}, \"hoverlabel\": {\"align\": \"left\"}, \"hovermode\": \"closest\", \"mapbox\": {\"style\": \"light\"}, \"paper_bgcolor\": \"white\", \"plot_bgcolor\": \"#E5ECF6\", \"polar\": {\"angularaxis\": {\"gridcolor\": \"white\", \"linecolor\": \"white\", \"ticks\": \"\"}, \"bgcolor\": \"#E5ECF6\", \"radialaxis\": {\"gridcolor\": \"white\", \"linecolor\": \"white\", \"ticks\": \"\"}}, \"scene\": {\"xaxis\": {\"backgroundcolor\": \"#E5ECF6\", \"gridcolor\": \"white\", \"gridwidth\": 2, \"linecolor\": \"white\", \"showbackground\": true, \"ticks\": \"\", \"zerolinecolor\": \"white\"}, \"yaxis\": {\"backgroundcolor\": \"#E5ECF6\", \"gridcolor\": \"white\", \"gridwidth\": 2, \"linecolor\": \"white\", \"showbackground\": true, \"ticks\": \"\", \"zerolinecolor\": \"white\"}, \"zaxis\": {\"backgroundcolor\": \"#E5ECF6\", \"gridcolor\": \"white\", \"gridwidth\": 2, \"linecolor\": \"white\", \"showbackground\": true, \"ticks\": \"\", \"zerolinecolor\": \"white\"}}, \"shapedefaults\": {\"line\": {\"color\": \"#2a3f5f\"}}, \"ternary\": {\"aaxis\": {\"gridcolor\": \"white\", \"linecolor\": \"white\", \"ticks\": \"\"}, \"baxis\": {\"gridcolor\": \"white\", \"linecolor\": \"white\", \"ticks\": \"\"}, \"bgcolor\": \"#E5ECF6\", \"caxis\": {\"gridcolor\": \"white\", \"linecolor\": \"white\", \"ticks\": \"\"}}, \"title\": {\"x\": 0.05}, \"xaxis\": {\"automargin\": true, \"gridcolor\": \"white\", \"linecolor\": \"white\", \"ticks\": \"\", \"zerolinecolor\": \"white\", \"zerolinewidth\": 2}, \"yaxis\": {\"automargin\": true, \"gridcolor\": \"white\", \"linecolor\": \"white\", \"ticks\": \"\", \"zerolinecolor\": \"white\", \"zerolinewidth\": 2}}}, \"title\": {\"text\": \"Average Return by Tweeter Data\"}, \"width\": 800},\n",
       "                        {\"responsive\": true}\n",
       "                    ).then(function(){\n",
       "                            \n",
       "var gd = document.getElementById('c4d1cc84-5d20-47f2-b3ae-8a56ea76dd45');\n",
       "var x = new MutationObserver(function (mutations, observer) {{\n",
       "        var display = window.getComputedStyle(gd).display;\n",
       "        if (!display || display === 'none') {{\n",
       "            console.log([gd, 'removed!']);\n",
       "            Plotly.purge(gd);\n",
       "            observer.disconnect();\n",
       "        }}\n",
       "}});\n",
       "\n",
       "// Listen for the removal of the full notebook cells\n",
       "var notebookContainer = gd.closest('#notebook-container');\n",
       "if (notebookContainer) {{\n",
       "    x.observe(notebookContainer, {childList: true});\n",
       "}}\n",
       "\n",
       "// Listen for the clearing of the current output cell\n",
       "var outputEl = gd.closest('.output');\n",
       "if (outputEl) {{\n",
       "    x.observe(outputEl, {childList: true});\n",
       "}}\n",
       "\n",
       "                        })\n",
       "                };\n",
       "                });\n",
       "            </script>\n",
       "        </div>"
      ]
     },
     "metadata": {},
     "output_type": "display_data"
    },
    {
     "data": {
      "application/vnd.plotly.v1+json": {
       "config": {
        "plotlyServerURL": "https://plot.ly"
       },
       "data": [
        {
         "marker": {
          "color": "blue",
          "line": {
           "width": 0
          },
          "size": 3
         },
         "mode": "markers",
         "name": "Above Benchmark Percent Correct",
         "type": "scatter3d",
         "x": [
          0.35,
          0.35,
          0.35,
          0.35,
          0.35,
          0.35,
          0.35,
          0.35,
          0.35,
          0.35,
          0.35,
          0.35,
          0.35,
          0.35,
          0.35,
          0.35,
          0.35,
          0.375,
          0.375,
          0.375,
          0.375,
          0.375,
          0.375,
          0.375,
          0.375,
          0.375,
          0.375,
          0.375,
          0.375,
          0.375,
          0.375,
          0.375,
          0.375,
          0.375,
          0.4,
          0.4,
          0.4,
          0.4,
          0.4,
          0.4,
          0.4,
          0.4,
          0.4,
          0.4,
          0.4,
          0.4,
          0.4,
          0.4,
          0.4,
          0.4,
          0.4,
          0.425,
          0.425,
          0.425,
          0.425,
          0.425,
          0.425,
          0.425,
          0.425,
          0.425,
          0.425,
          0.425,
          0.425,
          0.425,
          0.425,
          0.425,
          0.425,
          0.425,
          0.45,
          0.45,
          0.45,
          0.45,
          0.45,
          0.45,
          0.45,
          0.45,
          0.45,
          0.45,
          0.45,
          0.45,
          0.45,
          0.45,
          0.45,
          0.45,
          0.45,
          0.475,
          0.475,
          0.475,
          0.475,
          0.475,
          0.475,
          0.475,
          0.475,
          0.475,
          0.475,
          0.475,
          0.475,
          0.475,
          0.475,
          0.475,
          0.475,
          0.5,
          0.5,
          0.5,
          0.5,
          0.5,
          0.5,
          0.5,
          0.5,
          0.5,
          0.5,
          0.5,
          0.5,
          0.5,
          0.525,
          0.525,
          0.525,
          0.525,
          0.525,
          0.525,
          0.525,
          0.525,
          0.525,
          0.525,
          0.525,
          0.525,
          0.525,
          0.55,
          0.55,
          0.55,
          0.55,
          0.55,
          0.55,
          0.55,
          0.55,
          0.55,
          0.55,
          0.55,
          0.55,
          0.55,
          0.55,
          0.55,
          0.575,
          0.575,
          0.575,
          0.575,
          0.575,
          0.575,
          0.575,
          0.575,
          0.575,
          0.575,
          0.575,
          0.575,
          0.575,
          0.575,
          0.575,
          0.6,
          0.6,
          0.6,
          0.6,
          0.6,
          0.6,
          0.6,
          0.6,
          0.6,
          0.6,
          0.6,
          0.6,
          0.6,
          0.625,
          0.625,
          0.625,
          0.625,
          0.625,
          0.625,
          0.625,
          0.625,
          0.625,
          0.625,
          0.65,
          0.65,
          0.65,
          0.65,
          0.65,
          0.65,
          0.65,
          0.65,
          0.65,
          0.675,
          0.675,
          0.675,
          0.675,
          0.675,
          0.7,
          0.7,
          0.7,
          0.7,
          0.7
         ],
         "y": [
          14,
          26,
          13,
          16,
          37,
          65,
          41,
          20,
          27,
          18,
          15,
          25,
          38,
          47,
          33,
          17,
          39,
          14,
          26,
          13,
          16,
          35,
          27,
          38,
          19,
          15,
          17,
          24,
          22,
          37,
          46,
          25,
          20,
          29,
          13,
          23,
          14,
          32,
          24,
          60,
          36,
          25,
          17,
          15,
          16,
          22,
          20,
          33,
          43,
          18,
          27,
          13,
          21,
          30,
          22,
          12,
          59,
          24,
          23,
          17,
          15,
          19,
          33,
          42,
          18,
          27,
          16,
          36,
          13,
          20,
          12,
          29,
          21,
          57,
          23,
          17,
          15,
          19,
          32,
          41,
          24,
          22,
          18,
          27,
          35,
          13,
          20,
          12,
          28,
          21,
          56,
          23,
          17,
          15,
          18,
          31,
          40,
          24,
          22,
          26,
          35,
          11,
          15,
          10,
          20,
          17,
          9,
          19,
          13,
          16,
          14,
          25,
          33,
          22,
          11,
          15,
          10,
          20,
          17,
          9,
          19,
          13,
          16,
          14,
          25,
          33,
          22,
          11,
          13,
          10,
          9,
          17,
          14,
          37,
          18,
          15,
          12,
          23,
          21,
          28,
          19,
          20,
          11,
          12,
          10,
          9,
          15,
          13,
          36,
          16,
          17,
          14,
          21,
          20,
          27,
          18,
          19,
          10,
          9,
          13,
          20,
          12,
          11,
          7,
          8,
          19,
          15,
          17,
          14,
          16,
          8,
          12,
          28,
          9,
          18,
          17,
          16,
          15,
          11,
          10,
          8,
          11,
          27,
          9,
          18,
          16,
          15,
          12,
          10,
          10,
          6,
          11,
          8,
          7,
          5,
          8,
          7,
          6,
          10
         ],
         "z": [
          51.61290322580645,
          52.94117647058824,
          52.94117647058824,
          55.55555555555556,
          60,
          66.66666666666666,
          57.14285714285714,
          54.54545454545454,
          53.333333333333336,
          58.333333333333336,
          53.333333333333336,
          52.63157894736842,
          55.55555555555556,
          60,
          54.54545454545454,
          57.692307692307686,
          62.5,
          51.61290322580645,
          56.25,
          51.515151515151516,
          60,
          60,
          53.84615384615385,
          57.14285714285714,
          56.52173913043478,
          53.333333333333336,
          58.333333333333336,
          55.00000000000001,
          57.14285714285714,
          55.55555555555556,
          60,
          52.63157894736842,
          54.54545454545454,
          54.54545454545454,
          55.172413793103445,
          57.89473684210527,
          57.14285714285714,
          60,
          60,
          66.66666666666666,
          57.14285714285714,
          53.84615384615385,
          56.52173913043478,
          57.692307692307686,
          58.333333333333336,
          55.00000000000001,
          57.14285714285714,
          55.55555555555556,
          60,
          54.54545454545454,
          54.54545454545454,
          57.14285714285714,
          57.89473684210527,
          60,
          61.111111111111114,
          51.42857142857142,
          66.66666666666666,
          53.84615384615385,
          60,
          56.52173913043478,
          56.00000000000001,
          57.14285714285714,
          55.55555555555556,
          60,
          54.54545454545454,
          54.54545454545454,
          58.333333333333336,
          57.14285714285714,
          57.14285714285714,
          60,
          56.25,
          60,
          61.111111111111114,
          66.66666666666666,
          57.14285714285714,
          56.52173913043478,
          58.333333333333336,
          57.14285714285714,
          55.55555555555556,
          60,
          53.84615384615385,
          58.82352941176471,
          54.54545454545454,
          54.54545454545454,
          57.14285714285714,
          57.14285714285714,
          60,
          56.25,
          60,
          61.111111111111114,
          66.66666666666666,
          57.14285714285714,
          56.52173913043478,
          58.333333333333336,
          57.14285714285714,
          55.55555555555556,
          60,
          53.84615384615385,
          58.82352941176471,
          54.54545454545454,
          57.14285714285714,
          59.25925925925925,
          57.89473684210527,
          53.125,
          60,
          56.25,
          51.35135135135135,
          57.14285714285714,
          58.333333333333336,
          55.55555555555556,
          60.86956521739131,
          62.5,
          60,
          66.66666666666666,
          59.25925925925925,
          57.89473684210527,
          53.125,
          60,
          56.25,
          51.35135135135135,
          57.14285714285714,
          58.333333333333336,
          55.55555555555556,
          60.86956521739131,
          62.5,
          60,
          66.66666666666666,
          60,
          60,
          60.71428571428571,
          53.125,
          61.53846153846154,
          61.111111111111114,
          66.66666666666666,
          58.333333333333336,
          53.333333333333336,
          58.333333333333336,
          57.14285714285714,
          62.5,
          60,
          54.54545454545454,
          66.66666666666666,
          56.52173913043478,
          57.14285714285714,
          61.53846153846154,
          55.172413793103445,
          57.14285714285714,
          61.111111111111114,
          66.66666666666666,
          53.84615384615385,
          58.333333333333336,
          56.25,
          57.14285714285714,
          62.5,
          60,
          60,
          66.66666666666666,
          61.111111111111114,
          60,
          58.333333333333336,
          60,
          60,
          64.70588235294117,
          53.333333333333336,
          57.14285714285714,
          57.14285714285714,
          60,
          62.5,
          63.63636363636363,
          66.66666666666666,
          52.17391304347826,
          60,
          66.66666666666666,
          52.94117647058824,
          60,
          66.66666666666666,
          62.5,
          66.66666666666666,
          60,
          56.25,
          57.14285714285714,
          61.53846153846154,
          66.66666666666666,
          56.25,
          60,
          66.66666666666666,
          62.5,
          60,
          60,
          57.14285714285714,
          61.53846153846154,
          60,
          60,
          54.54545454545454,
          60,
          57.14285714285714,
          55.55555555555556,
          61.53846153846154,
          60
         ]
        },
        {
         "marker": {
          "color": "green",
          "line": {
           "width": 0
          },
          "size": 3
         },
         "mode": "markers",
         "name": "Above 50% Correct",
         "type": "scatter3d",
         "x": [],
         "y": [],
         "z": []
        },
        {
         "marker": {
          "color": "red",
          "line": {
           "width": 0
          },
          "size": 3
         },
         "mode": "markers",
         "name": "Below 50% Correct",
         "type": "scatter3d",
         "x": [
          0.35,
          0.35,
          0.35,
          0.35,
          0.35,
          0.35,
          0.35,
          0.35,
          0.35,
          0.35,
          0.35,
          0.35,
          0.375,
          0.375,
          0.375,
          0.375,
          0.375,
          0.375,
          0.375,
          0.375,
          0.375,
          0.375,
          0.375,
          0.4,
          0.4,
          0.4,
          0.4,
          0.4,
          0.4,
          0.4,
          0.4,
          0.4,
          0.4,
          0.4,
          0.4,
          0.425,
          0.425,
          0.425,
          0.425,
          0.425,
          0.425,
          0.425,
          0.425,
          0.425,
          0.425,
          0.425,
          0.45,
          0.45,
          0.45,
          0.45,
          0.45,
          0.45,
          0.45,
          0.45,
          0.45,
          0.45,
          0.45,
          0.475,
          0.475,
          0.475,
          0.475,
          0.475,
          0.475,
          0.475,
          0.475,
          0.475,
          0.475,
          0.475,
          0.5,
          0.5,
          0.5,
          0.5,
          0.5,
          0.5,
          0.5,
          0.5,
          0.525,
          0.525,
          0.525,
          0.525,
          0.525,
          0.525,
          0.525,
          0.525,
          0.55,
          0.55,
          0.55,
          0.55,
          0.55,
          0.55,
          0.55,
          0.55,
          0.575,
          0.575,
          0.575,
          0.575,
          0.575,
          0.575,
          0.575,
          0.6,
          0.6,
          0.6,
          0.6,
          0.625,
          0.625,
          0.625,
          0.625,
          0.625,
          0.625,
          0.625,
          0.65,
          0.65,
          0.65,
          0.65,
          0.65,
          0.65,
          0.675,
          0.675,
          0.675,
          0.675,
          0.7,
          0.7,
          0.7
         ],
         "y": [
          2,
          3,
          1,
          6,
          8,
          4,
          9,
          7,
          5,
          10,
          12,
          11,
          2,
          3,
          1,
          5,
          8,
          6,
          4,
          9,
          7,
          11,
          10,
          2,
          3,
          1,
          5,
          8,
          4,
          9,
          6,
          7,
          12,
          11,
          10,
          2,
          3,
          1,
          5,
          8,
          4,
          9,
          6,
          7,
          11,
          10,
          2,
          3,
          1,
          5,
          8,
          4,
          9,
          6,
          7,
          11,
          10,
          2,
          3,
          1,
          4,
          8,
          5,
          9,
          6,
          7,
          11,
          10,
          2,
          3,
          1,
          4,
          8,
          6,
          7,
          5,
          2,
          3,
          1,
          4,
          8,
          6,
          7,
          5,
          2,
          3,
          1,
          4,
          6,
          5,
          8,
          7,
          2,
          3,
          1,
          4,
          6,
          5,
          7,
          2,
          3,
          1,
          5,
          1,
          2,
          3,
          4,
          5,
          6,
          7,
          1,
          2,
          3,
          4,
          5,
          6,
          4,
          1,
          2,
          3,
          1,
          2,
          3
         ],
         "z": [
          42.5,
          42.06349206349206,
          45.248868778280546,
          43.28358208955223,
          48.275862068965516,
          43.43434343434344,
          48.07692307692308,
          46.03174603174603,
          40.78947368421053,
          47.82608695652174,
          46.34146341463415,
          48.888888888888886,
          43.31210191082803,
          43.2,
          46.36363636363636,
          44.44444444444444,
          47.27272727272727,
          46.15384615384615,
          46.31578947368421,
          46.93877551020408,
          49.18032786885246,
          48.837209302325576,
          47.82608695652174,
          43.42105263157895,
          42.3728813559322,
          45.58139534883721,
          44.11764705882353,
          43.13725490196079,
          44.31818181818182,
          44.680851063829785,
          45.3125,
          45.45454545454545,
          48.64864864864865,
          46.15384615384615,
          45.23809523809524,
          42.76315789473684,
          41.52542372881356,
          45.11627906976744,
          43.28358208955223,
          42.857142857142854,
          42.35294117647059,
          44.680851063829785,
          45.3125,
          45.45454545454545,
          46.15384615384615,
          45.23809523809524,
          42.76315789473684,
          41.88034188034188,
          45.11627906976744,
          43.28358208955223,
          43.75,
          42.35294117647059,
          46.666666666666664,
          46.03174603174603,
          45.45454545454545,
          47.368421052631575,
          45.23809523809524,
          42.76315789473684,
          41.73913043478261,
          45.32710280373832,
          43.20987654320987,
          43.75,
          43.28358208955223,
          46.666666666666664,
          46.03174603174603,
          45.28301886792453,
          47.368421052631575,
          45.23809523809524,
          43.47826086956522,
          42.71844660194174,
          46.03960396039604,
          45.20547945205479,
          48.78048780487805,
          49.056603773584904,
          48.93617021276596,
          44.61538461538462,
          43.47826086956522,
          42.71844660194174,
          46.03960396039604,
          45.20547945205479,
          48.78048780487805,
          49.056603773584904,
          48.93617021276596,
          44.61538461538462,
          43.28358208955223,
          44.44444444444444,
          46.26865671641791,
          45.588235294117645,
          45.65217391304348,
          45.16129032258064,
          48.64864864864865,
          47.72727272727273,
          45.378151260504204,
          44.827586206896555,
          47.12041884816754,
          46.15384615384615,
          45.45454545454545,
          44.44444444444444,
          47.368421052631575,
          44.339622641509436,
          45.78313253012048,
          47.45762711864407,
          47.82608695652174,
          43.08943089430895,
          42.168674698795186,
          43.859649122807014,
          42.22222222222222,
          41.17647058823529,
          44.827586206896555,
          46.42857142857143,
          43.08943089430895,
          42.168674698795186,
          43.859649122807014,
          42.22222222222222,
          41.17647058823529,
          44.827586206896555,
          48.275862068965516,
          46.34146341463415,
          43.39622641509434,
          44.44444444444444,
          46.478873239436616,
          46.51162790697674,
          45.16129032258064
         ]
        }
       ],
       "layout": {
        "autosize": false,
        "height": 550,
        "scene": {
         "aspectmode": "manual",
         "aspectratio": {
          "x": 1,
          "y": 1,
          "z": 0.7
         },
         "xaxis": {
          "backgroundcolor": "rgb(230, 230,230)",
          "gridcolor": "rgb(255, 255, 255)",
          "showbackground": true,
          "zerolinecolor": "rgb(255, 255, 255)"
         },
         "yaxis": {
          "backgroundcolor": "rgb(230, 230,230)",
          "gridcolor": "rgb(255, 255, 255)",
          "showbackground": true,
          "zerolinecolor": "rgb(255, 255, 255)"
         },
         "zaxis": {
          "backgroundcolor": "rgb(230, 230,230)",
          "gridcolor": "rgb(255, 255, 255)",
          "showbackground": true,
          "zerolinecolor": "rgb(255, 255, 255)"
         }
        },
        "template": {
         "data": {
          "bar": [
           {
            "error_x": {
             "color": "#2a3f5f"
            },
            "error_y": {
             "color": "#2a3f5f"
            },
            "marker": {
             "line": {
              "color": "#E5ECF6",
              "width": 0.5
             }
            },
            "type": "bar"
           }
          ],
          "barpolar": [
           {
            "marker": {
             "line": {
              "color": "#E5ECF6",
              "width": 0.5
             }
            },
            "type": "barpolar"
           }
          ],
          "carpet": [
           {
            "aaxis": {
             "endlinecolor": "#2a3f5f",
             "gridcolor": "white",
             "linecolor": "white",
             "minorgridcolor": "white",
             "startlinecolor": "#2a3f5f"
            },
            "baxis": {
             "endlinecolor": "#2a3f5f",
             "gridcolor": "white",
             "linecolor": "white",
             "minorgridcolor": "white",
             "startlinecolor": "#2a3f5f"
            },
            "type": "carpet"
           }
          ],
          "choropleth": [
           {
            "colorbar": {
             "outlinewidth": 0,
             "ticks": ""
            },
            "type": "choropleth"
           }
          ],
          "contour": [
           {
            "colorbar": {
             "outlinewidth": 0,
             "ticks": ""
            },
            "colorscale": [
             [
              0,
              "#0d0887"
             ],
             [
              0.1111111111111111,
              "#46039f"
             ],
             [
              0.2222222222222222,
              "#7201a8"
             ],
             [
              0.3333333333333333,
              "#9c179e"
             ],
             [
              0.4444444444444444,
              "#bd3786"
             ],
             [
              0.5555555555555556,
              "#d8576b"
             ],
             [
              0.6666666666666666,
              "#ed7953"
             ],
             [
              0.7777777777777778,
              "#fb9f3a"
             ],
             [
              0.8888888888888888,
              "#fdca26"
             ],
             [
              1,
              "#f0f921"
             ]
            ],
            "type": "contour"
           }
          ],
          "contourcarpet": [
           {
            "colorbar": {
             "outlinewidth": 0,
             "ticks": ""
            },
            "type": "contourcarpet"
           }
          ],
          "heatmap": [
           {
            "colorbar": {
             "outlinewidth": 0,
             "ticks": ""
            },
            "colorscale": [
             [
              0,
              "#0d0887"
             ],
             [
              0.1111111111111111,
              "#46039f"
             ],
             [
              0.2222222222222222,
              "#7201a8"
             ],
             [
              0.3333333333333333,
              "#9c179e"
             ],
             [
              0.4444444444444444,
              "#bd3786"
             ],
             [
              0.5555555555555556,
              "#d8576b"
             ],
             [
              0.6666666666666666,
              "#ed7953"
             ],
             [
              0.7777777777777778,
              "#fb9f3a"
             ],
             [
              0.8888888888888888,
              "#fdca26"
             ],
             [
              1,
              "#f0f921"
             ]
            ],
            "type": "heatmap"
           }
          ],
          "heatmapgl": [
           {
            "colorbar": {
             "outlinewidth": 0,
             "ticks": ""
            },
            "colorscale": [
             [
              0,
              "#0d0887"
             ],
             [
              0.1111111111111111,
              "#46039f"
             ],
             [
              0.2222222222222222,
              "#7201a8"
             ],
             [
              0.3333333333333333,
              "#9c179e"
             ],
             [
              0.4444444444444444,
              "#bd3786"
             ],
             [
              0.5555555555555556,
              "#d8576b"
             ],
             [
              0.6666666666666666,
              "#ed7953"
             ],
             [
              0.7777777777777778,
              "#fb9f3a"
             ],
             [
              0.8888888888888888,
              "#fdca26"
             ],
             [
              1,
              "#f0f921"
             ]
            ],
            "type": "heatmapgl"
           }
          ],
          "histogram": [
           {
            "marker": {
             "colorbar": {
              "outlinewidth": 0,
              "ticks": ""
             }
            },
            "type": "histogram"
           }
          ],
          "histogram2d": [
           {
            "colorbar": {
             "outlinewidth": 0,
             "ticks": ""
            },
            "colorscale": [
             [
              0,
              "#0d0887"
             ],
             [
              0.1111111111111111,
              "#46039f"
             ],
             [
              0.2222222222222222,
              "#7201a8"
             ],
             [
              0.3333333333333333,
              "#9c179e"
             ],
             [
              0.4444444444444444,
              "#bd3786"
             ],
             [
              0.5555555555555556,
              "#d8576b"
             ],
             [
              0.6666666666666666,
              "#ed7953"
             ],
             [
              0.7777777777777778,
              "#fb9f3a"
             ],
             [
              0.8888888888888888,
              "#fdca26"
             ],
             [
              1,
              "#f0f921"
             ]
            ],
            "type": "histogram2d"
           }
          ],
          "histogram2dcontour": [
           {
            "colorbar": {
             "outlinewidth": 0,
             "ticks": ""
            },
            "colorscale": [
             [
              0,
              "#0d0887"
             ],
             [
              0.1111111111111111,
              "#46039f"
             ],
             [
              0.2222222222222222,
              "#7201a8"
             ],
             [
              0.3333333333333333,
              "#9c179e"
             ],
             [
              0.4444444444444444,
              "#bd3786"
             ],
             [
              0.5555555555555556,
              "#d8576b"
             ],
             [
              0.6666666666666666,
              "#ed7953"
             ],
             [
              0.7777777777777778,
              "#fb9f3a"
             ],
             [
              0.8888888888888888,
              "#fdca26"
             ],
             [
              1,
              "#f0f921"
             ]
            ],
            "type": "histogram2dcontour"
           }
          ],
          "mesh3d": [
           {
            "colorbar": {
             "outlinewidth": 0,
             "ticks": ""
            },
            "type": "mesh3d"
           }
          ],
          "parcoords": [
           {
            "line": {
             "colorbar": {
              "outlinewidth": 0,
              "ticks": ""
             }
            },
            "type": "parcoords"
           }
          ],
          "scatter": [
           {
            "marker": {
             "colorbar": {
              "outlinewidth": 0,
              "ticks": ""
             }
            },
            "type": "scatter"
           }
          ],
          "scatter3d": [
           {
            "line": {
             "colorbar": {
              "outlinewidth": 0,
              "ticks": ""
             }
            },
            "marker": {
             "colorbar": {
              "outlinewidth": 0,
              "ticks": ""
             }
            },
            "type": "scatter3d"
           }
          ],
          "scattercarpet": [
           {
            "marker": {
             "colorbar": {
              "outlinewidth": 0,
              "ticks": ""
             }
            },
            "type": "scattercarpet"
           }
          ],
          "scattergeo": [
           {
            "marker": {
             "colorbar": {
              "outlinewidth": 0,
              "ticks": ""
             }
            },
            "type": "scattergeo"
           }
          ],
          "scattergl": [
           {
            "marker": {
             "colorbar": {
              "outlinewidth": 0,
              "ticks": ""
             }
            },
            "type": "scattergl"
           }
          ],
          "scattermapbox": [
           {
            "marker": {
             "colorbar": {
              "outlinewidth": 0,
              "ticks": ""
             }
            },
            "type": "scattermapbox"
           }
          ],
          "scatterpolar": [
           {
            "marker": {
             "colorbar": {
              "outlinewidth": 0,
              "ticks": ""
             }
            },
            "type": "scatterpolar"
           }
          ],
          "scatterpolargl": [
           {
            "marker": {
             "colorbar": {
              "outlinewidth": 0,
              "ticks": ""
             }
            },
            "type": "scatterpolargl"
           }
          ],
          "scatterternary": [
           {
            "marker": {
             "colorbar": {
              "outlinewidth": 0,
              "ticks": ""
             }
            },
            "type": "scatterternary"
           }
          ],
          "surface": [
           {
            "colorbar": {
             "outlinewidth": 0,
             "ticks": ""
            },
            "colorscale": [
             [
              0,
              "#0d0887"
             ],
             [
              0.1111111111111111,
              "#46039f"
             ],
             [
              0.2222222222222222,
              "#7201a8"
             ],
             [
              0.3333333333333333,
              "#9c179e"
             ],
             [
              0.4444444444444444,
              "#bd3786"
             ],
             [
              0.5555555555555556,
              "#d8576b"
             ],
             [
              0.6666666666666666,
              "#ed7953"
             ],
             [
              0.7777777777777778,
              "#fb9f3a"
             ],
             [
              0.8888888888888888,
              "#fdca26"
             ],
             [
              1,
              "#f0f921"
             ]
            ],
            "type": "surface"
           }
          ],
          "table": [
           {
            "cells": {
             "fill": {
              "color": "#EBF0F8"
             },
             "line": {
              "color": "white"
             }
            },
            "header": {
             "fill": {
              "color": "#C8D4E3"
             },
             "line": {
              "color": "white"
             }
            },
            "type": "table"
           }
          ]
         },
         "layout": {
          "annotationdefaults": {
           "arrowcolor": "#2a3f5f",
           "arrowhead": 0,
           "arrowwidth": 1
          },
          "colorscale": {
           "diverging": [
            [
             0,
             "#8e0152"
            ],
            [
             0.1,
             "#c51b7d"
            ],
            [
             0.2,
             "#de77ae"
            ],
            [
             0.3,
             "#f1b6da"
            ],
            [
             0.4,
             "#fde0ef"
            ],
            [
             0.5,
             "#f7f7f7"
            ],
            [
             0.6,
             "#e6f5d0"
            ],
            [
             0.7,
             "#b8e186"
            ],
            [
             0.8,
             "#7fbc41"
            ],
            [
             0.9,
             "#4d9221"
            ],
            [
             1,
             "#276419"
            ]
           ],
           "sequential": [
            [
             0,
             "#0d0887"
            ],
            [
             0.1111111111111111,
             "#46039f"
            ],
            [
             0.2222222222222222,
             "#7201a8"
            ],
            [
             0.3333333333333333,
             "#9c179e"
            ],
            [
             0.4444444444444444,
             "#bd3786"
            ],
            [
             0.5555555555555556,
             "#d8576b"
            ],
            [
             0.6666666666666666,
             "#ed7953"
            ],
            [
             0.7777777777777778,
             "#fb9f3a"
            ],
            [
             0.8888888888888888,
             "#fdca26"
            ],
            [
             1,
             "#f0f921"
            ]
           ],
           "sequentialminus": [
            [
             0,
             "#0d0887"
            ],
            [
             0.1111111111111111,
             "#46039f"
            ],
            [
             0.2222222222222222,
             "#7201a8"
            ],
            [
             0.3333333333333333,
             "#9c179e"
            ],
            [
             0.4444444444444444,
             "#bd3786"
            ],
            [
             0.5555555555555556,
             "#d8576b"
            ],
            [
             0.6666666666666666,
             "#ed7953"
            ],
            [
             0.7777777777777778,
             "#fb9f3a"
            ],
            [
             0.8888888888888888,
             "#fdca26"
            ],
            [
             1,
             "#f0f921"
            ]
           ]
          },
          "colorway": [
           "#636efa",
           "#EF553B",
           "#00cc96",
           "#ab63fa",
           "#FFA15A",
           "#19d3f3",
           "#FF6692",
           "#B6E880",
           "#FF97FF",
           "#FECB52"
          ],
          "font": {
           "color": "#2a3f5f"
          },
          "geo": {
           "bgcolor": "white",
           "lakecolor": "white",
           "landcolor": "#E5ECF6",
           "showlakes": true,
           "showland": true,
           "subunitcolor": "white"
          },
          "hoverlabel": {
           "align": "left"
          },
          "hovermode": "closest",
          "mapbox": {
           "style": "light"
          },
          "paper_bgcolor": "white",
          "plot_bgcolor": "#E5ECF6",
          "polar": {
           "angularaxis": {
            "gridcolor": "white",
            "linecolor": "white",
            "ticks": ""
           },
           "bgcolor": "#E5ECF6",
           "radialaxis": {
            "gridcolor": "white",
            "linecolor": "white",
            "ticks": ""
           }
          },
          "scene": {
           "xaxis": {
            "backgroundcolor": "#E5ECF6",
            "gridcolor": "white",
            "gridwidth": 2,
            "linecolor": "white",
            "showbackground": true,
            "ticks": "",
            "zerolinecolor": "white"
           },
           "yaxis": {
            "backgroundcolor": "#E5ECF6",
            "gridcolor": "white",
            "gridwidth": 2,
            "linecolor": "white",
            "showbackground": true,
            "ticks": "",
            "zerolinecolor": "white"
           },
           "zaxis": {
            "backgroundcolor": "#E5ECF6",
            "gridcolor": "white",
            "gridwidth": 2,
            "linecolor": "white",
            "showbackground": true,
            "ticks": "",
            "zerolinecolor": "white"
           }
          },
          "shapedefaults": {
           "line": {
            "color": "#2a3f5f"
           }
          },
          "ternary": {
           "aaxis": {
            "gridcolor": "white",
            "linecolor": "white",
            "ticks": ""
           },
           "baxis": {
            "gridcolor": "white",
            "linecolor": "white",
            "ticks": ""
           },
           "bgcolor": "#E5ECF6",
           "caxis": {
            "gridcolor": "white",
            "linecolor": "white",
            "ticks": ""
           }
          },
          "title": {
           "x": 0.05
          },
          "xaxis": {
           "automargin": true,
           "gridcolor": "white",
           "linecolor": "white",
           "ticks": "",
           "zerolinecolor": "white",
           "zerolinewidth": 2
          },
          "yaxis": {
           "automargin": true,
           "gridcolor": "white",
           "linecolor": "white",
           "ticks": "",
           "zerolinecolor": "white",
           "zerolinewidth": 2
          }
         }
        },
        "title": {
         "text": "Percent Correct by Tweeter Data"
        },
        "width": 800
       }
      },
      "text/html": [
       "<div>\n",
       "        \n",
       "        \n",
       "            <div id=\"4001e00e-844d-46cd-9a18-e59fbda7a737\" class=\"plotly-graph-div\" style=\"height:550px; width:800px;\"></div>\n",
       "            <script type=\"text/javascript\">\n",
       "                require([\"plotly\"], function(Plotly) {\n",
       "                    window.PLOTLYENV=window.PLOTLYENV || {};\n",
       "                    \n",
       "                if (document.getElementById(\"4001e00e-844d-46cd-9a18-e59fbda7a737\")) {\n",
       "                    Plotly.newPlot(\n",
       "                        '4001e00e-844d-46cd-9a18-e59fbda7a737',\n",
       "                        [{\"marker\": {\"color\": \"blue\", \"line\": {\"width\": 0}, \"size\": 3}, \"mode\": \"markers\", \"name\": \"Above Benchmark Percent Correct\", \"type\": \"scatter3d\", \"x\": [0.35, 0.35, 0.35, 0.35, 0.35, 0.35, 0.35, 0.35, 0.35, 0.35, 0.35, 0.35, 0.35, 0.35, 0.35, 0.35, 0.35, 0.375, 0.375, 0.375, 0.375, 0.375, 0.375, 0.375, 0.375, 0.375, 0.375, 0.375, 0.375, 0.375, 0.375, 0.375, 0.375, 0.375, 0.4, 0.4, 0.4, 0.4, 0.4, 0.4, 0.4, 0.4, 0.4, 0.4, 0.4, 0.4, 0.4, 0.4, 0.4, 0.4, 0.4, 0.425, 0.425, 0.425, 0.425, 0.425, 0.425, 0.425, 0.425, 0.425, 0.425, 0.425, 0.425, 0.425, 0.425, 0.425, 0.425, 0.425, 0.45, 0.45, 0.45, 0.45, 0.45, 0.45, 0.45, 0.45, 0.45, 0.45, 0.45, 0.45, 0.45, 0.45, 0.45, 0.45, 0.45, 0.475, 0.475, 0.475, 0.475, 0.475, 0.475, 0.475, 0.475, 0.475, 0.475, 0.475, 0.475, 0.475, 0.475, 0.475, 0.475, 0.5, 0.5, 0.5, 0.5, 0.5, 0.5, 0.5, 0.5, 0.5, 0.5, 0.5, 0.5, 0.5, 0.525, 0.525, 0.525, 0.525, 0.525, 0.525, 0.525, 0.525, 0.525, 0.525, 0.525, 0.525, 0.525, 0.55, 0.55, 0.55, 0.55, 0.55, 0.55, 0.55, 0.55, 0.55, 0.55, 0.55, 0.55, 0.55, 0.55, 0.55, 0.575, 0.575, 0.575, 0.575, 0.575, 0.575, 0.575, 0.575, 0.575, 0.575, 0.575, 0.575, 0.575, 0.575, 0.575, 0.6, 0.6, 0.6, 0.6, 0.6, 0.6, 0.6, 0.6, 0.6, 0.6, 0.6, 0.6, 0.6, 0.625, 0.625, 0.625, 0.625, 0.625, 0.625, 0.625, 0.625, 0.625, 0.625, 0.65, 0.65, 0.65, 0.65, 0.65, 0.65, 0.65, 0.65, 0.65, 0.675, 0.675, 0.675, 0.675, 0.675, 0.7, 0.7, 0.7, 0.7, 0.7], \"y\": [14, 26, 13, 16, 37, 65, 41, 20, 27, 18, 15, 25, 38, 47, 33, 17, 39, 14, 26, 13, 16, 35, 27, 38, 19, 15, 17, 24, 22, 37, 46, 25, 20, 29, 13, 23, 14, 32, 24, 60, 36, 25, 17, 15, 16, 22, 20, 33, 43, 18, 27, 13, 21, 30, 22, 12, 59, 24, 23, 17, 15, 19, 33, 42, 18, 27, 16, 36, 13, 20, 12, 29, 21, 57, 23, 17, 15, 19, 32, 41, 24, 22, 18, 27, 35, 13, 20, 12, 28, 21, 56, 23, 17, 15, 18, 31, 40, 24, 22, 26, 35, 11, 15, 10, 20, 17, 9, 19, 13, 16, 14, 25, 33, 22, 11, 15, 10, 20, 17, 9, 19, 13, 16, 14, 25, 33, 22, 11, 13, 10, 9, 17, 14, 37, 18, 15, 12, 23, 21, 28, 19, 20, 11, 12, 10, 9, 15, 13, 36, 16, 17, 14, 21, 20, 27, 18, 19, 10, 9, 13, 20, 12, 11, 7, 8, 19, 15, 17, 14, 16, 8, 12, 28, 9, 18, 17, 16, 15, 11, 10, 8, 11, 27, 9, 18, 16, 15, 12, 10, 10, 6, 11, 8, 7, 5, 8, 7, 6, 10], \"z\": [51.61290322580645, 52.94117647058824, 52.94117647058824, 55.55555555555556, 60.0, 66.66666666666666, 57.14285714285714, 54.54545454545454, 53.333333333333336, 58.333333333333336, 53.333333333333336, 52.63157894736842, 55.55555555555556, 60.0, 54.54545454545454, 57.692307692307686, 62.5, 51.61290322580645, 56.25, 51.515151515151516, 60.0, 60.0, 53.84615384615385, 57.14285714285714, 56.52173913043478, 53.333333333333336, 58.333333333333336, 55.00000000000001, 57.14285714285714, 55.55555555555556, 60.0, 52.63157894736842, 54.54545454545454, 54.54545454545454, 55.172413793103445, 57.89473684210527, 57.14285714285714, 60.0, 60.0, 66.66666666666666, 57.14285714285714, 53.84615384615385, 56.52173913043478, 57.692307692307686, 58.333333333333336, 55.00000000000001, 57.14285714285714, 55.55555555555556, 60.0, 54.54545454545454, 54.54545454545454, 57.14285714285714, 57.89473684210527, 60.0, 61.111111111111114, 51.42857142857142, 66.66666666666666, 53.84615384615385, 60.0, 56.52173913043478, 56.00000000000001, 57.14285714285714, 55.55555555555556, 60.0, 54.54545454545454, 54.54545454545454, 58.333333333333336, 57.14285714285714, 57.14285714285714, 60.0, 56.25, 60.0, 61.111111111111114, 66.66666666666666, 57.14285714285714, 56.52173913043478, 58.333333333333336, 57.14285714285714, 55.55555555555556, 60.0, 53.84615384615385, 58.82352941176471, 54.54545454545454, 54.54545454545454, 57.14285714285714, 57.14285714285714, 60.0, 56.25, 60.0, 61.111111111111114, 66.66666666666666, 57.14285714285714, 56.52173913043478, 58.333333333333336, 57.14285714285714, 55.55555555555556, 60.0, 53.84615384615385, 58.82352941176471, 54.54545454545454, 57.14285714285714, 59.25925925925925, 57.89473684210527, 53.125, 60.0, 56.25, 51.35135135135135, 57.14285714285714, 58.333333333333336, 55.55555555555556, 60.86956521739131, 62.5, 60.0, 66.66666666666666, 59.25925925925925, 57.89473684210527, 53.125, 60.0, 56.25, 51.35135135135135, 57.14285714285714, 58.333333333333336, 55.55555555555556, 60.86956521739131, 62.5, 60.0, 66.66666666666666, 60.0, 60.0, 60.71428571428571, 53.125, 61.53846153846154, 61.111111111111114, 66.66666666666666, 58.333333333333336, 53.333333333333336, 58.333333333333336, 57.14285714285714, 62.5, 60.0, 54.54545454545454, 66.66666666666666, 56.52173913043478, 57.14285714285714, 61.53846153846154, 55.172413793103445, 57.14285714285714, 61.111111111111114, 66.66666666666666, 53.84615384615385, 58.333333333333336, 56.25, 57.14285714285714, 62.5, 60.0, 60.0, 66.66666666666666, 61.111111111111114, 60.0, 58.333333333333336, 60.0, 60.0, 64.70588235294117, 53.333333333333336, 57.14285714285714, 57.14285714285714, 60.0, 62.5, 63.63636363636363, 66.66666666666666, 52.17391304347826, 60.0, 66.66666666666666, 52.94117647058824, 60.0, 66.66666666666666, 62.5, 66.66666666666666, 60.0, 56.25, 57.14285714285714, 61.53846153846154, 66.66666666666666, 56.25, 60.0, 66.66666666666666, 62.5, 60.0, 60.0, 57.14285714285714, 61.53846153846154, 60.0, 60.0, 54.54545454545454, 60.0, 57.14285714285714, 55.55555555555556, 61.53846153846154, 60.0]}, {\"marker\": {\"color\": \"green\", \"line\": {\"width\": 0}, \"size\": 3}, \"mode\": \"markers\", \"name\": \"Above 50% Correct\", \"type\": \"scatter3d\", \"x\": [], \"y\": [], \"z\": []}, {\"marker\": {\"color\": \"red\", \"line\": {\"width\": 0}, \"size\": 3}, \"mode\": \"markers\", \"name\": \"Below 50% Correct\", \"type\": \"scatter3d\", \"x\": [0.35, 0.35, 0.35, 0.35, 0.35, 0.35, 0.35, 0.35, 0.35, 0.35, 0.35, 0.35, 0.375, 0.375, 0.375, 0.375, 0.375, 0.375, 0.375, 0.375, 0.375, 0.375, 0.375, 0.4, 0.4, 0.4, 0.4, 0.4, 0.4, 0.4, 0.4, 0.4, 0.4, 0.4, 0.4, 0.425, 0.425, 0.425, 0.425, 0.425, 0.425, 0.425, 0.425, 0.425, 0.425, 0.425, 0.45, 0.45, 0.45, 0.45, 0.45, 0.45, 0.45, 0.45, 0.45, 0.45, 0.45, 0.475, 0.475, 0.475, 0.475, 0.475, 0.475, 0.475, 0.475, 0.475, 0.475, 0.475, 0.5, 0.5, 0.5, 0.5, 0.5, 0.5, 0.5, 0.5, 0.525, 0.525, 0.525, 0.525, 0.525, 0.525, 0.525, 0.525, 0.55, 0.55, 0.55, 0.55, 0.55, 0.55, 0.55, 0.55, 0.575, 0.575, 0.575, 0.575, 0.575, 0.575, 0.575, 0.6, 0.6, 0.6, 0.6, 0.625, 0.625, 0.625, 0.625, 0.625, 0.625, 0.625, 0.65, 0.65, 0.65, 0.65, 0.65, 0.65, 0.675, 0.675, 0.675, 0.675, 0.7, 0.7, 0.7], \"y\": [2, 3, 1, 6, 8, 4, 9, 7, 5, 10, 12, 11, 2, 3, 1, 5, 8, 6, 4, 9, 7, 11, 10, 2, 3, 1, 5, 8, 4, 9, 6, 7, 12, 11, 10, 2, 3, 1, 5, 8, 4, 9, 6, 7, 11, 10, 2, 3, 1, 5, 8, 4, 9, 6, 7, 11, 10, 2, 3, 1, 4, 8, 5, 9, 6, 7, 11, 10, 2, 3, 1, 4, 8, 6, 7, 5, 2, 3, 1, 4, 8, 6, 7, 5, 2, 3, 1, 4, 6, 5, 8, 7, 2, 3, 1, 4, 6, 5, 7, 2, 3, 1, 5, 1, 2, 3, 4, 5, 6, 7, 1, 2, 3, 4, 5, 6, 4, 1, 2, 3, 1, 2, 3], \"z\": [42.5, 42.06349206349206, 45.248868778280546, 43.28358208955223, 48.275862068965516, 43.43434343434344, 48.07692307692308, 46.03174603174603, 40.78947368421053, 47.82608695652174, 46.34146341463415, 48.888888888888886, 43.31210191082803, 43.2, 46.36363636363636, 44.44444444444444, 47.27272727272727, 46.15384615384615, 46.31578947368421, 46.93877551020408, 49.18032786885246, 48.837209302325576, 47.82608695652174, 43.42105263157895, 42.3728813559322, 45.58139534883721, 44.11764705882353, 43.13725490196079, 44.31818181818182, 44.680851063829785, 45.3125, 45.45454545454545, 48.64864864864865, 46.15384615384615, 45.23809523809524, 42.76315789473684, 41.52542372881356, 45.11627906976744, 43.28358208955223, 42.857142857142854, 42.35294117647059, 44.680851063829785, 45.3125, 45.45454545454545, 46.15384615384615, 45.23809523809524, 42.76315789473684, 41.88034188034188, 45.11627906976744, 43.28358208955223, 43.75, 42.35294117647059, 46.666666666666664, 46.03174603174603, 45.45454545454545, 47.368421052631575, 45.23809523809524, 42.76315789473684, 41.73913043478261, 45.32710280373832, 43.20987654320987, 43.75, 43.28358208955223, 46.666666666666664, 46.03174603174603, 45.28301886792453, 47.368421052631575, 45.23809523809524, 43.47826086956522, 42.71844660194174, 46.03960396039604, 45.20547945205479, 48.78048780487805, 49.056603773584904, 48.93617021276596, 44.61538461538462, 43.47826086956522, 42.71844660194174, 46.03960396039604, 45.20547945205479, 48.78048780487805, 49.056603773584904, 48.93617021276596, 44.61538461538462, 43.28358208955223, 44.44444444444444, 46.26865671641791, 45.588235294117645, 45.65217391304348, 45.16129032258064, 48.64864864864865, 47.72727272727273, 45.378151260504204, 44.827586206896555, 47.12041884816754, 46.15384615384615, 45.45454545454545, 44.44444444444444, 47.368421052631575, 44.339622641509436, 45.78313253012048, 47.45762711864407, 47.82608695652174, 43.08943089430895, 42.168674698795186, 43.859649122807014, 42.22222222222222, 41.17647058823529, 44.827586206896555, 46.42857142857143, 43.08943089430895, 42.168674698795186, 43.859649122807014, 42.22222222222222, 41.17647058823529, 44.827586206896555, 48.275862068965516, 46.34146341463415, 43.39622641509434, 44.44444444444444, 46.478873239436616, 46.51162790697674, 45.16129032258064]}],\n",
       "                        {\"autosize\": false, \"height\": 550, \"scene\": {\"aspectmode\": \"manual\", \"aspectratio\": {\"x\": 1, \"y\": 1, \"z\": 0.7}, \"xaxis\": {\"backgroundcolor\": \"rgb(230, 230,230)\", \"gridcolor\": \"rgb(255, 255, 255)\", \"showbackground\": true, \"zerolinecolor\": \"rgb(255, 255, 255)\"}, \"yaxis\": {\"backgroundcolor\": \"rgb(230, 230,230)\", \"gridcolor\": \"rgb(255, 255, 255)\", \"showbackground\": true, \"zerolinecolor\": \"rgb(255, 255, 255)\"}, \"zaxis\": {\"backgroundcolor\": \"rgb(230, 230,230)\", \"gridcolor\": \"rgb(255, 255, 255)\", \"showbackground\": true, \"zerolinecolor\": \"rgb(255, 255, 255)\"}}, \"template\": {\"data\": {\"bar\": [{\"error_x\": {\"color\": \"#2a3f5f\"}, \"error_y\": {\"color\": \"#2a3f5f\"}, \"marker\": {\"line\": {\"color\": \"#E5ECF6\", \"width\": 0.5}}, \"type\": \"bar\"}], \"barpolar\": [{\"marker\": {\"line\": {\"color\": \"#E5ECF6\", \"width\": 0.5}}, \"type\": \"barpolar\"}], \"carpet\": [{\"aaxis\": {\"endlinecolor\": \"#2a3f5f\", \"gridcolor\": \"white\", \"linecolor\": \"white\", \"minorgridcolor\": \"white\", \"startlinecolor\": \"#2a3f5f\"}, \"baxis\": {\"endlinecolor\": \"#2a3f5f\", \"gridcolor\": \"white\", \"linecolor\": \"white\", \"minorgridcolor\": \"white\", \"startlinecolor\": \"#2a3f5f\"}, \"type\": \"carpet\"}], \"choropleth\": [{\"colorbar\": {\"outlinewidth\": 0, \"ticks\": \"\"}, \"type\": \"choropleth\"}], \"contour\": [{\"colorbar\": {\"outlinewidth\": 0, \"ticks\": \"\"}, \"colorscale\": [[0.0, \"#0d0887\"], [0.1111111111111111, \"#46039f\"], [0.2222222222222222, \"#7201a8\"], [0.3333333333333333, \"#9c179e\"], [0.4444444444444444, \"#bd3786\"], [0.5555555555555556, \"#d8576b\"], [0.6666666666666666, \"#ed7953\"], [0.7777777777777778, \"#fb9f3a\"], [0.8888888888888888, \"#fdca26\"], [1.0, \"#f0f921\"]], \"type\": \"contour\"}], \"contourcarpet\": [{\"colorbar\": {\"outlinewidth\": 0, \"ticks\": \"\"}, \"type\": \"contourcarpet\"}], \"heatmap\": [{\"colorbar\": {\"outlinewidth\": 0, \"ticks\": \"\"}, \"colorscale\": [[0.0, \"#0d0887\"], [0.1111111111111111, \"#46039f\"], [0.2222222222222222, \"#7201a8\"], [0.3333333333333333, \"#9c179e\"], [0.4444444444444444, \"#bd3786\"], [0.5555555555555556, \"#d8576b\"], [0.6666666666666666, \"#ed7953\"], [0.7777777777777778, \"#fb9f3a\"], [0.8888888888888888, \"#fdca26\"], [1.0, \"#f0f921\"]], \"type\": \"heatmap\"}], \"heatmapgl\": [{\"colorbar\": {\"outlinewidth\": 0, \"ticks\": \"\"}, \"colorscale\": [[0.0, \"#0d0887\"], [0.1111111111111111, \"#46039f\"], [0.2222222222222222, \"#7201a8\"], [0.3333333333333333, \"#9c179e\"], [0.4444444444444444, \"#bd3786\"], [0.5555555555555556, \"#d8576b\"], [0.6666666666666666, \"#ed7953\"], [0.7777777777777778, \"#fb9f3a\"], [0.8888888888888888, \"#fdca26\"], [1.0, \"#f0f921\"]], \"type\": \"heatmapgl\"}], \"histogram\": [{\"marker\": {\"colorbar\": {\"outlinewidth\": 0, \"ticks\": \"\"}}, \"type\": \"histogram\"}], \"histogram2d\": [{\"colorbar\": {\"outlinewidth\": 0, \"ticks\": \"\"}, \"colorscale\": [[0.0, \"#0d0887\"], [0.1111111111111111, \"#46039f\"], [0.2222222222222222, \"#7201a8\"], [0.3333333333333333, \"#9c179e\"], [0.4444444444444444, \"#bd3786\"], [0.5555555555555556, \"#d8576b\"], [0.6666666666666666, \"#ed7953\"], [0.7777777777777778, \"#fb9f3a\"], [0.8888888888888888, \"#fdca26\"], [1.0, \"#f0f921\"]], \"type\": \"histogram2d\"}], \"histogram2dcontour\": [{\"colorbar\": {\"outlinewidth\": 0, \"ticks\": \"\"}, \"colorscale\": [[0.0, \"#0d0887\"], [0.1111111111111111, \"#46039f\"], [0.2222222222222222, \"#7201a8\"], [0.3333333333333333, \"#9c179e\"], [0.4444444444444444, \"#bd3786\"], [0.5555555555555556, \"#d8576b\"], [0.6666666666666666, \"#ed7953\"], [0.7777777777777778, \"#fb9f3a\"], [0.8888888888888888, \"#fdca26\"], [1.0, \"#f0f921\"]], \"type\": \"histogram2dcontour\"}], \"mesh3d\": [{\"colorbar\": {\"outlinewidth\": 0, \"ticks\": \"\"}, \"type\": \"mesh3d\"}], \"parcoords\": [{\"line\": {\"colorbar\": {\"outlinewidth\": 0, \"ticks\": \"\"}}, \"type\": \"parcoords\"}], \"scatter\": [{\"marker\": {\"colorbar\": {\"outlinewidth\": 0, \"ticks\": \"\"}}, \"type\": \"scatter\"}], \"scatter3d\": [{\"line\": {\"colorbar\": {\"outlinewidth\": 0, \"ticks\": \"\"}}, \"marker\": {\"colorbar\": {\"outlinewidth\": 0, \"ticks\": \"\"}}, \"type\": \"scatter3d\"}], \"scattercarpet\": [{\"marker\": {\"colorbar\": {\"outlinewidth\": 0, \"ticks\": \"\"}}, \"type\": \"scattercarpet\"}], \"scattergeo\": [{\"marker\": {\"colorbar\": {\"outlinewidth\": 0, \"ticks\": \"\"}}, \"type\": \"scattergeo\"}], \"scattergl\": [{\"marker\": {\"colorbar\": {\"outlinewidth\": 0, \"ticks\": \"\"}}, \"type\": \"scattergl\"}], \"scattermapbox\": [{\"marker\": {\"colorbar\": {\"outlinewidth\": 0, \"ticks\": \"\"}}, \"type\": \"scattermapbox\"}], \"scatterpolar\": [{\"marker\": {\"colorbar\": {\"outlinewidth\": 0, \"ticks\": \"\"}}, \"type\": \"scatterpolar\"}], \"scatterpolargl\": [{\"marker\": {\"colorbar\": {\"outlinewidth\": 0, \"ticks\": \"\"}}, \"type\": \"scatterpolargl\"}], \"scatterternary\": [{\"marker\": {\"colorbar\": {\"outlinewidth\": 0, \"ticks\": \"\"}}, \"type\": \"scatterternary\"}], \"surface\": [{\"colorbar\": {\"outlinewidth\": 0, \"ticks\": \"\"}, \"colorscale\": [[0.0, \"#0d0887\"], [0.1111111111111111, \"#46039f\"], [0.2222222222222222, \"#7201a8\"], [0.3333333333333333, \"#9c179e\"], [0.4444444444444444, \"#bd3786\"], [0.5555555555555556, \"#d8576b\"], [0.6666666666666666, \"#ed7953\"], [0.7777777777777778, \"#fb9f3a\"], [0.8888888888888888, \"#fdca26\"], [1.0, \"#f0f921\"]], \"type\": \"surface\"}], \"table\": [{\"cells\": {\"fill\": {\"color\": \"#EBF0F8\"}, \"line\": {\"color\": \"white\"}}, \"header\": {\"fill\": {\"color\": \"#C8D4E3\"}, \"line\": {\"color\": \"white\"}}, \"type\": \"table\"}]}, \"layout\": {\"annotationdefaults\": {\"arrowcolor\": \"#2a3f5f\", \"arrowhead\": 0, \"arrowwidth\": 1}, \"colorscale\": {\"diverging\": [[0, \"#8e0152\"], [0.1, \"#c51b7d\"], [0.2, \"#de77ae\"], [0.3, \"#f1b6da\"], [0.4, \"#fde0ef\"], [0.5, \"#f7f7f7\"], [0.6, \"#e6f5d0\"], [0.7, \"#b8e186\"], [0.8, \"#7fbc41\"], [0.9, \"#4d9221\"], [1, \"#276419\"]], \"sequential\": [[0.0, \"#0d0887\"], [0.1111111111111111, \"#46039f\"], [0.2222222222222222, \"#7201a8\"], [0.3333333333333333, \"#9c179e\"], [0.4444444444444444, \"#bd3786\"], [0.5555555555555556, \"#d8576b\"], [0.6666666666666666, \"#ed7953\"], [0.7777777777777778, \"#fb9f3a\"], [0.8888888888888888, \"#fdca26\"], [1.0, \"#f0f921\"]], \"sequentialminus\": [[0.0, \"#0d0887\"], [0.1111111111111111, \"#46039f\"], [0.2222222222222222, \"#7201a8\"], [0.3333333333333333, \"#9c179e\"], [0.4444444444444444, \"#bd3786\"], [0.5555555555555556, \"#d8576b\"], [0.6666666666666666, \"#ed7953\"], [0.7777777777777778, \"#fb9f3a\"], [0.8888888888888888, \"#fdca26\"], [1.0, \"#f0f921\"]]}, \"colorway\": [\"#636efa\", \"#EF553B\", \"#00cc96\", \"#ab63fa\", \"#FFA15A\", \"#19d3f3\", \"#FF6692\", \"#B6E880\", \"#FF97FF\", \"#FECB52\"], \"font\": {\"color\": \"#2a3f5f\"}, \"geo\": {\"bgcolor\": \"white\", \"lakecolor\": \"white\", \"landcolor\": \"#E5ECF6\", \"showlakes\": true, \"showland\": true, \"subunitcolor\": \"white\"}, \"hoverlabel\": {\"align\": \"left\"}, \"hovermode\": \"closest\", \"mapbox\": {\"style\": \"light\"}, \"paper_bgcolor\": \"white\", \"plot_bgcolor\": \"#E5ECF6\", \"polar\": {\"angularaxis\": {\"gridcolor\": \"white\", \"linecolor\": \"white\", \"ticks\": \"\"}, \"bgcolor\": \"#E5ECF6\", \"radialaxis\": {\"gridcolor\": \"white\", \"linecolor\": \"white\", \"ticks\": \"\"}}, \"scene\": {\"xaxis\": {\"backgroundcolor\": \"#E5ECF6\", \"gridcolor\": \"white\", \"gridwidth\": 2, \"linecolor\": \"white\", \"showbackground\": true, \"ticks\": \"\", \"zerolinecolor\": \"white\"}, \"yaxis\": {\"backgroundcolor\": \"#E5ECF6\", \"gridcolor\": \"white\", \"gridwidth\": 2, \"linecolor\": \"white\", \"showbackground\": true, \"ticks\": \"\", \"zerolinecolor\": \"white\"}, \"zaxis\": {\"backgroundcolor\": \"#E5ECF6\", \"gridcolor\": \"white\", \"gridwidth\": 2, \"linecolor\": \"white\", \"showbackground\": true, \"ticks\": \"\", \"zerolinecolor\": \"white\"}}, \"shapedefaults\": {\"line\": {\"color\": \"#2a3f5f\"}}, \"ternary\": {\"aaxis\": {\"gridcolor\": \"white\", \"linecolor\": \"white\", \"ticks\": \"\"}, \"baxis\": {\"gridcolor\": \"white\", \"linecolor\": \"white\", \"ticks\": \"\"}, \"bgcolor\": \"#E5ECF6\", \"caxis\": {\"gridcolor\": \"white\", \"linecolor\": \"white\", \"ticks\": \"\"}}, \"title\": {\"x\": 0.05}, \"xaxis\": {\"automargin\": true, \"gridcolor\": \"white\", \"linecolor\": \"white\", \"ticks\": \"\", \"zerolinecolor\": \"white\", \"zerolinewidth\": 2}, \"yaxis\": {\"automargin\": true, \"gridcolor\": \"white\", \"linecolor\": \"white\", \"ticks\": \"\", \"zerolinecolor\": \"white\", \"zerolinewidth\": 2}}}, \"title\": {\"text\": \"Percent Correct by Tweeter Data\"}, \"width\": 800},\n",
       "                        {\"responsive\": true}\n",
       "                    ).then(function(){\n",
       "                            \n",
       "var gd = document.getElementById('4001e00e-844d-46cd-9a18-e59fbda7a737');\n",
       "var x = new MutationObserver(function (mutations, observer) {{\n",
       "        var display = window.getComputedStyle(gd).display;\n",
       "        if (!display || display === 'none') {{\n",
       "            console.log([gd, 'removed!']);\n",
       "            Plotly.purge(gd);\n",
       "            observer.disconnect();\n",
       "        }}\n",
       "}});\n",
       "\n",
       "// Listen for the removal of the full notebook cells\n",
       "var notebookContainer = gd.closest('#notebook-container');\n",
       "if (notebookContainer) {{\n",
       "    x.observe(notebookContainer, {childList: true});\n",
       "}}\n",
       "\n",
       "// Listen for the clearing of the current output cell\n",
       "var outputEl = gd.closest('.output');\n",
       "if (outputEl) {{\n",
       "    x.observe(outputEl, {childList: true});\n",
       "}}\n",
       "\n",
       "                        })\n",
       "                };\n",
       "                });\n",
       "            </script>\n",
       "        </div>"
      ]
     },
     "metadata": {},
     "output_type": "display_data"
    }
   ],
   "source": [
    "test_range=[.35,.375,.4,.425,.45,.475,.5,.525,.55,.575,.6,.625,.65,.675,.7]\n",
    "results=pd.DataFrame([])\n",
    "for i in test_range:\n",
    "    det_results=pd.DataFrame([])\n",
    "    best_tweeters=tweeter_ag_scores[tweeter_ag_scores.pct_vader_correct>i]\n",
    "    big=tweeter_scores_test[tweeter_scores_test.tweeter.isin(best_tweeters.tweeter)]\n",
    "    days=big.day.unique()\n",
    "    for day in days:\n",
    "        holder=big[big.day==day]\n",
    "        day_stocks=holder.stock.unique()\n",
    "        day_mkt_returns=[]\n",
    "        day_mkt_winners=[]\n",
    "        day_vader_returns=[]\n",
    "        day_vader_winners=[]\n",
    "        day_blob_returns=[]\n",
    "        day_blob_winners=[]\n",
    "        for stock in day_stocks:\n",
    "            holder2=holder[holder.stock==stock]\n",
    "            holder2.reset_index(drop=True,inplace=True)\n",
    "            vader_score=holder2.avg_vader_sent.mean()\n",
    "            blob_score=holder2.avg_blob_sent.mean()\n",
    "            if vader_score*holder2.stock_move[0]>0:\n",
    "                day_vader_returns.append(holder2.stock_move[0])\n",
    "                day_vader_winners.append(1)\n",
    "            else:\n",
    "                day_vader_returns.append(-np.abs(holder2.stock_move[0]))\n",
    "                day_vader_winners.append(0)\n",
    "            if blob_score*holder2.stock_move[0]>0:\n",
    "                day_blob_returns.append(holder2.stock_move[0])\n",
    "                day_blob_winners.append(1)\n",
    "            else:\n",
    "                day_blob_returns.append(-np.abs(holder2.stock_move[0]))\n",
    "                day_blob_winners.append(0)\n",
    "            if holder2.stock_move[0]>0:\n",
    "                day_mkt_winners.append(1)\n",
    "            else:\n",
    "                day_mkt_winners.append(0)\n",
    "            day_mkt_returns.append(holder2.stock_move[0])\n",
    "            det_results=det_results.append(pd.DataFrame({'day':day,'stock':stock,'vader_score':vader_score,\n",
    "                                                        'blob_score':blob_score,'num_tweeters':len(holder2),\n",
    "                                                        'stock_move':holder2.stock_move[0]},index=[0]),ignore_index=True)\n",
    "    num_tweet_values=det_results.num_tweeters.unique()\n",
    "    for j in num_tweet_values:\n",
    "        test=det_results[det_results.num_tweeters>j]\n",
    "        test.reset_index(drop=True,inplace=True)\n",
    "        q1,q2,q3,q4,fails=[],[],[],[],[]\n",
    "        for k in range(len(test)):\n",
    "            if (test.vader_score[k]<0) & (test.stock_move[k]>0):\n",
    "                q1.append(-test.stock_move[k])\n",
    "            elif (test.vader_score[k]>0) & (test.stock_move[k]>0):\n",
    "                q2.append(test.stock_move[k])\n",
    "            elif (test.vader_score[k]>0) & (test.stock_move[k]<0):\n",
    "                q3.append(test.stock_move[k])\n",
    "            elif (test.vader_score[k]<0) & (test.stock_move[k]<0):\n",
    "                q4.append(-test.stock_move[k])\n",
    "            else:\n",
    "                fails.append(1)\n",
    "        total_return=np.sum(q1)+np.sum(q2)+np.sum(q3)+np.sum(q4)\n",
    "        num_trades=len(test)-np.sum(fails)\n",
    "        if total_return>0:\n",
    "            ret_pos=1\n",
    "        else:\n",
    "            ret_pos=0\n",
    "        results=results.append(pd.DataFrame({'tweeter_acc_thresh':i,'min_tweeters':j,\n",
    "                                             'avg_ret':total_return/num_trades*100,'ret_pos':ret_pos,\n",
    "                                             'pct_correct':(len(q2)+len(q4))/num_trades*100},index=[0]),ignore_index=True)\n",
    "\n",
    "# This is the mean return of all trades and is the benchmark that we are hoping to beat\n",
    "bench=daily_api_returns.mean().mean()*100       \n",
    "above_bench_results=results[results.avg_ret>bench]\n",
    "pos_results=results[(results.avg_ret>0) & (results.avg_ret<bench)]\n",
    "neg_results=results[results.avg_ret<0]        \n",
    "xb=above_bench_results.tweeter_acc_thresh\n",
    "yb=above_bench_results.min_tweeters\n",
    "zb=above_bench_results.avg_ret\n",
    "xp=pos_results.tweeter_acc_thresh\n",
    "yp=pos_results.min_tweeters\n",
    "zp=pos_results.avg_ret\n",
    "xn=neg_results.tweeter_acc_thresh\n",
    "yn=neg_results.min_tweeters\n",
    "zn=neg_results.avg_ret\n",
    "data=[]\n",
    "trace1=dict(name='Above Benchmark Return',x=xb,y=yb,z=zb,type=\"scatter3d\",mode='markers',\n",
    "            marker=dict(size=3,color='blue',line=dict(width=0)))\n",
    "trace2=dict(name='Positive Return',x=xp,y=yp,z=zp,type=\"scatter3d\",mode='markers',\n",
    "            marker=dict(size=3,color='green',line=dict(width=0)))\n",
    "trace3=dict(name='Negative Return',x=xn,y=yn,z=zn,type=\"scatter3d\",mode='markers',\n",
    "            marker=dict(size=3,color='red',line=dict(width=0)))\n",
    "data.append(trace1)\n",
    "data.append(trace2)\n",
    "data.append(trace3)\n",
    "layout = dict(\n",
    "    width=800,\n",
    "    height=550,\n",
    "    autosize=False,\n",
    "    title='Average Return by Tweeter Data',\n",
    "    scene=dict(\n",
    "        xaxis=dict(\n",
    "            gridcolor='rgb(255, 255, 255)',\n",
    "            zerolinecolor='rgb(255, 255, 255)',\n",
    "            showbackground=True,\n",
    "            backgroundcolor='rgb(230, 230,230)'\n",
    "        ),\n",
    "        yaxis=dict(\n",
    "            gridcolor='rgb(255, 255, 255)',\n",
    "            zerolinecolor='rgb(255, 255, 255)',\n",
    "            showbackground=True,\n",
    "            backgroundcolor='rgb(230, 230,230)'\n",
    "        ),\n",
    "        zaxis=dict(\n",
    "            gridcolor='rgb(255, 255, 255)',\n",
    "            zerolinecolor='rgb(255, 255, 255)',\n",
    "            showbackground=True,\n",
    "            backgroundcolor='rgb(230, 230,230)'\n",
    "        ),\n",
    "        aspectratio = dict( x=1, y=1, z=.7),\n",
    "        aspectmode = 'manual'        \n",
    "    ),\n",
    ")\n",
    "fig = go.Figure(data=data, layout=layout)\n",
    "fig.show()\n",
    "\n",
    "bench=((daily_api_returns>0).sum().sum())/((daily_api_returns.shape[0])*(daily_api_returns.shape[1]))*100\n",
    "results=results[results.pct_correct<80]\n",
    "results=results[results.pct_correct>20]\n",
    "above_bench_results=results[results.pct_correct>bench]\n",
    "pos_results=results[(results.pct_correct>50) & (results.pct_correct<bench)]\n",
    "neg_results=results[results.pct_correct<50]        \n",
    "xb=above_bench_results.tweeter_acc_thresh\n",
    "yb=above_bench_results.min_tweeters\n",
    "zb=above_bench_results.pct_correct\n",
    "xp=pos_results.tweeter_acc_thresh\n",
    "yp=pos_results.min_tweeters\n",
    "zp=pos_results.pct_correct\n",
    "xn=neg_results.tweeter_acc_thresh\n",
    "yn=neg_results.min_tweeters\n",
    "zn=neg_results.pct_correct\n",
    "data=[]\n",
    "trace1=dict(name='Above Benchmark Percent Correct',x=xb,y=yb,z=zb,type=\"scatter3d\",mode='markers',\n",
    "            marker=dict(size=3,color='blue',line=dict(width=0)))\n",
    "trace2=dict(name='Above 50% Correct',x=xp,y=yp,z=zp,type=\"scatter3d\",mode='markers',\n",
    "            marker=dict(size=3,color='green',line=dict(width=0)))\n",
    "trace3=dict(name='Below 50% Correct',x=xn,y=yn,z=zn,type=\"scatter3d\",mode='markers',\n",
    "            marker=dict(size=3,color='red',line=dict(width=0)))\n",
    "data.append(trace1)\n",
    "data.append(trace2)\n",
    "data.append(trace3)\n",
    "layout = dict(\n",
    "    width=800,\n",
    "    height=550,\n",
    "    autosize=False,\n",
    "    title='Percent Correct by Tweeter Data',\n",
    "    scene=dict(\n",
    "        xaxis=dict(\n",
    "            gridcolor='rgb(255, 255, 255)',\n",
    "            zerolinecolor='rgb(255, 255, 255)',\n",
    "            showbackground=True,\n",
    "            backgroundcolor='rgb(230, 230,230)'\n",
    "        ),\n",
    "        yaxis=dict(\n",
    "            gridcolor='rgb(255, 255, 255)',\n",
    "            zerolinecolor='rgb(255, 255, 255)',\n",
    "            showbackground=True,\n",
    "            backgroundcolor='rgb(230, 230,230)'\n",
    "        ),\n",
    "        zaxis=dict(\n",
    "            gridcolor='rgb(255, 255, 255)',\n",
    "            zerolinecolor='rgb(255, 255, 255)',\n",
    "            showbackground=True,\n",
    "            backgroundcolor='rgb(230, 230,230)'\n",
    "        ),\n",
    "        aspectratio = dict( x=1, y=1, z=.7),\n",
    "        aspectmode = 'manual'        \n",
    "    ),\n",
    ")\n",
    "fig = go.Figure(data=data, layout=layout)\n",
    "fig.show()"
   ]
  },
  {
   "cell_type": "markdown",
   "metadata": {},
   "source": [
    "## Results\n",
    "In both of the 3D plots above, the x-axis is the minimum percent correct score that is included in the data point, the y-axis is the minimum number of tweeters who have tweeted about a particular stock on a particular day.  In the top chart the z-axis is the average percent return of the stocks that have been isolated for each data point. In the bottom chart the z-axis is the percent of isolated trades that were predicted correctly.\n",
    "\n",
    "In both charts we see the general trend that as more accurate tweeters are included, the higher average return and the higher percent correct.  In both charts we see a weaker trend that as the number of tweeters increases, so does the performance.  This analysis is very limited in scope and out of date, but it shows that there may be use in identifying the best tweeters and using the sentiment of their tweets to give insight into stock movements.\n",
    "\n",
    "## Example Real-World Use\n",
    "For demonstration purposes I have chosen a tweeter accuracy threshold of .55 and a minimum number of tweeters of 13."
   ]
  },
  {
   "cell_type": "code",
   "execution_count": 123,
   "metadata": {},
   "outputs": [
    {
     "name": "stdout",
     "output_type": "stream",
     "text": [
      "Average Return of Isolated Trdes:  0.645 %\n",
      "Standard Deviation of Return of Isolated Trades:  1.757 %\n",
      "Average Return of All Trdes:  0.007 %\n",
      "Standard Deviation of Return of All Trades:  1.759 %\n",
      "Isolated Trades Percent Correct:  60.0 %\n",
      "All Trades Percent Up:  45.94 %\n",
      "Percent of Total Trades Taken:  6.71 %\n",
      "Welch's t-test Coefficient:  2.21\n",
      "Welch's t-test p-value:  0.03\n"
     ]
    },
    {
     "data": {
      "text/plain": [
       "<matplotlib.legend.Legend at 0x282cf03c7b8>"
      ]
     },
     "execution_count": 123,
     "metadata": {},
     "output_type": "execute_result"
    },
    {
     "data": {
      "image/png": "[encoded data removed]",
      "text/plain": [
       "<Figure size 576x432 with 1 Axes>"
      ]
     },
     "metadata": {
      "needs_background": "light"
     },
     "output_type": "display_data"
    },
    {
     "data": {
      "image/png": "[encoded data removed]",
      "text/plain": [
       "<Figure size 720x576 with 1 Axes>"
      ]
     },
     "metadata": {
      "needs_background": "light"
     },
     "output_type": "display_data"
    },
    {
     "data": {
      "image/png": "[encoded data removed]",
      "text/plain": [
       "<Figure size 864x576 with 1 Axes>"
      ]
     },
     "metadata": {
      "needs_background": "light"
     },
     "output_type": "display_data"
    }
   ],
   "source": [
    "tweeter_acc_thresh=.55\n",
    "min_tweeters=13\n",
    "det_results=pd.DataFrame([])\n",
    "best_tweeters=tweeter_ag_scores[tweeter_ag_scores.pct_vader_correct>tweeter_acc_thresh]\n",
    "big=tweeter_scores_test[tweeter_scores_test.tweeter.isin(best_tweeters.tweeter)]\n",
    "days=big.day.unique()\n",
    "for day in days:\n",
    "    holder=big[big.day==day]\n",
    "    day_stocks=holder.stock.unique()\n",
    "    day_mkt_returns=[]\n",
    "    day_mkt_winners=[]\n",
    "    day_vader_returns=[]\n",
    "    day_vader_winners=[]\n",
    "    day_blob_returns=[]\n",
    "    day_blob_winners=[]\n",
    "\n",
    "    for stock in day_stocks:\n",
    "        holder2=holder[holder.stock==stock]\n",
    "        holder2.reset_index(drop=True,inplace=True)\n",
    "        vader_score=holder2.avg_vader_sent.mean()\n",
    "        blob_score=holder2.avg_blob_sent.mean()\n",
    "        if vader_score*holder2.stock_move[0]>0:\n",
    "            vader_return=holder2.stock_move[0]\n",
    "            day_vader_returns.append(vader_return)\n",
    "            day_vader_winners.append(1)\n",
    "        else:\n",
    "            vader_return=-np.abs(holder2.stock_move[0])\n",
    "            day_vader_returns.append(vader_return)\n",
    "            day_vader_winners.append(0)\n",
    "        if blob_score*holder2.stock_move[0]>0:\n",
    "            blob_return=holder2.stock_move[0]\n",
    "            day_blob_returns.append(blob_return)\n",
    "            day_blob_winners.append(1)\n",
    "        else:\n",
    "            blob_return=-np.abs(holder2.stock_move[0])\n",
    "            day_blob_returns.append(blob_return)\n",
    "            day_blob_winners.append(0)\n",
    "        if holder2.stock_move[0]>0:\n",
    "            day_mkt_winners.append(1)\n",
    "            stock_updn=1\n",
    "        else:\n",
    "            day_mkt_winners.append(0)\n",
    "            stock_updn=0\n",
    "        day_mkt_returns.append(holder2.stock_move[0])\n",
    "        det_results=det_results.append(pd.DataFrame({'day':day,'stock':stock,'vader_score':vader_score,\n",
    "                                                    'blob_score':blob_score,'num_tweeters':len(holder2),\n",
    "                                                     'vader_return':vader_return,'blob_return':blob_return,\n",
    "                                                    'stock_move':holder2.stock_move[0],\n",
    "                                                    'stock_updn':stock_updn},index=[0]),ignore_index=True)\n",
    "test=det_results[det_results.num_tweeters>min_tweeters]\n",
    "test.reset_index(drop=True,inplace=True)\n",
    "results=pd.DataFrame([])\n",
    "daily_api_returns_test=daily_api_returns[daily_api_returns.index>test_date_cutoff]\n",
    "days=daily_api_returns_test.index.values\n",
    "days=days[::-1]\n",
    "results=results.append(pd.DataFrame({'day':days.min()-np.timedelta64(1,\"D\"),'mkt_returns':0,\n",
    "                                         'tweet_returns':0,\n",
    "                                         'iso_tweet_returns':0,\n",
    "                                             'mkt_trades':0,'tweet_trades':0,\n",
    "                                             'iso_trades':0},index=[0]),ignore_index=True)\n",
    "for day in days:\n",
    "    mkt=daily_api_returns[daily_api_returns.index==day].T\n",
    "    all_tweet_trades=det_results[det_results.day==day]\n",
    "    iso_tweet_trades=test[test.day==day]\n",
    "    if len(iso_tweet_trades)>0:\n",
    "        results=results.append(pd.DataFrame({'day':day,'mkt_returns':mkt.mean()[0],\n",
    "                                         'tweet_returns':all_tweet_trades.stock_move.mean(),\n",
    "                                         'iso_tweet_returns':iso_tweet_trades.vader_return.mean(),\n",
    "                                             'mkt_trades':len(mkt),'tweet_trades':len(all_tweet_trades),\n",
    "                                             'iso_trades':len(iso_tweet_trades)},index=[0]),ignore_index=True)\n",
    "\n",
    "q1,q2,q3,q4,fails=[],[],[],[],[]\n",
    "for k in range(len(test)):\n",
    "    if (test.vader_score[k]<0) & (test.stock_move[k]>0):\n",
    "        q1.append(-test.stock_move[k])\n",
    "    elif (test.vader_score[k]>0) & (test.stock_move[k]>0):\n",
    "        q2.append(test.stock_move[k])\n",
    "    elif (test.vader_score[k]>0) & (test.stock_move[k]<0):\n",
    "        q3.append(test.stock_move[k])\n",
    "    elif (test.vader_score[k]<0) & (test.stock_move[k]<0):\n",
    "        q4.append(-test.stock_move[k])\n",
    "    else:\n",
    "        fails.append(1)\n",
    "all_trades=q1.copy()\n",
    "all_trades.extend(q2)\n",
    "all_trades.extend(q3)\n",
    "all_trades.extend(q4)\n",
    "total_return=np.sum(q1)+np.sum(q2)+np.sum(q3)+np.sum(q4)\n",
    "num_trades=len(test)-len(fails)\n",
    "iso_trades2=pd.DataFrame(all_trades,columns=['a'])\n",
    "iso_trades2=iso_trades2*100\n",
    "all_trades2=daily_api_returns.stack()\n",
    "all_trades2=all_trades2*100\n",
    "all_trades2=pd.DataFrame(all_trades2,columns=['a'])\n",
    "plt.figure(figsize=(8,6))\n",
    "iso_trades2.a.plot.kde(label='Isolated Trades',color='blue')\n",
    "all_trades2.a.plot.kde(label='All Trades',color='orange')\n",
    "plt.xlim(-4,6)\n",
    "plt.axvline(iso_trades2.a.mean(),color='blue',alpha=.5)\n",
    "plt.axvline(all_trades2.a.mean(),color='orange',alpha=.5)\n",
    "on=0\n",
    "if on==1:\n",
    "    plt.axvline(iso_trades2.a.mean()+iso_trades2.a.std(),color='blue',alpha=.5,linestyle=':')\n",
    "    plt.axvline(all_trades2.a.mean()+all_trades2.a.std(),color='orange',alpha=.5,linestyle=':')\n",
    "    plt.axvline(iso_trades2.a.mean()-iso_trades2.a.std(),color='blue',alpha=.5,linestyle=':')\n",
    "    plt.axvline(all_trades2.a.mean()-all_trades2.a.std(),color='orange',alpha=.5,linestyle=':')\n",
    "plt.xlabel('Return (Percentage)')\n",
    "plt.title('Distribution of Results')\n",
    "plt.legend()\n",
    "t_test=stats.ttest_ind(all_trades,daily_api_returns_test.stack())\n",
    "print('Average Return of Isolated Trdes: ',round(total_return/num_trades*100,3),'%')\n",
    "print('Standard Deviation of Return of Isolated Trades: ',round(np.std(all_trades)*100,3),'%')\n",
    "print('Average Return of All Trdes: ',round(daily_api_returns.stack().mean()*100,3),'%')\n",
    "print('Standard Deviation of Return of All Trades: ',round(daily_api_returns.stack().std()*100,3),'%')\n",
    "print('Isolated Trades Percent Correct: ',round((len(q2)+len(q4))/num_trades*100,2),'%')\n",
    "print('All Trades Percent Up: ',round(((daily_api_returns_test>0).sum().sum())/((daily_api_returns_test.shape[0])*(daily_api_returns_test.shape[1]))*100,2),'%')\n",
    "print('Percent of Total Trades Taken: ',round(num_trades/len(det_results)*100,2),'%')\n",
    "print(\"Welch's t-test Coefficient: \",round(t_test[0],2))\n",
    "print(\"Welch's t-test p-value: \",round(t_test[1],2))\n",
    "plt.figure(figsize=(10,8))\n",
    "for j in range(0,40):\n",
    "    c=int(len(test)/len(daily_api_returns_test))\n",
    "    a=np.random.normal(total_return/num_trades*100,np.std(all_trades)*100,(int(len(daily_api_returns_test)*daily_api_returns_test.shape[1]*num_trades/len(det_results))+2))\n",
    "    b=np.random.normal(daily_api_returns_test.stack().mean()*100,daily_api_returns_test.stack().std()*100,(int(len(daily_api_returns_test)*daily_returns_test.shape[1]*num_trades/len(det_results))+2))\n",
    "    compare=pd.DataFrame([])\n",
    "    compare=compare.append(pd.DataFrame({'day':0,'iso_ret':0,'all_ret':0},index=[0]),ignore_index=True)\n",
    "    for i in range(len(daily_api_returns_test)):\n",
    "        compare=compare.append(pd.DataFrame({'day':i+1,'iso_ret':np.mean(a[(i*c):((i+1)*c-1)]),\n",
    "                                            'all_ret':np.mean(b[(i*c):((i+1)*c-1)])},index=[0]),ignore_index=True)\n",
    "    compare['sum_iso']=compare.iso_ret.cumsum()\n",
    "    compare['sum_all']=compare.all_ret.cumsum()\n",
    "    plt.plot(compare.day,compare.sum_iso,color='blue',alpha=.25,label='_nolegend_')\n",
    "    plt.plot(compare.day,compare.sum_all,color='red',alpha=.25,label='_nolegend_')\n",
    "plt.plot(compare.day,compare.sum_iso,color='blue',alpha=.5,label='Isolated Trades')\n",
    "plt.plot(compare.day,compare.sum_all,color='red',alpha=.5,label='All Trades')\n",
    "plt.xlabel('Trading Day')\n",
    "plt.ylabel('Percent Return')\n",
    "plt.title('Comparing Hypothetical Portfolios Based on Average and Standard Deviation of Returns')\n",
    "plt.legend()\n",
    "results['sum_mkt']=results.mkt_returns.cumsum()\n",
    "results['sum_twt']=results.tweet_returns.cumsum()\n",
    "results['sum_iso']=results.iso_tweet_returns.cumsum()\n",
    "plt.figure(figsize=(12,8))\n",
    "plt.plot(results.day,results.sum_iso*100,color='green',alpha=.5,label='Isolated Trades')\n",
    "plt.plot(results.day,results.sum_twt*100,color='blue',alpha=.5,label='Tweeted Trades')\n",
    "plt.plot(results.day,results.sum_mkt*100,color='red',alpha=.5,label='All Trades')\n",
    "plt.xlabel('Date')\n",
    "plt.ylabel('Percent Return')\n",
    "plt.title('Comparing Portfolio Returns')\n",
    "plt.legend()"
   ]
  },
  {
   "cell_type": "markdown",
   "metadata": {},
   "source": [
    "## Interpretation\n",
    "- The average return of the isolated trades is more than six times greater than that of all trades.\n",
    "- The standard deviation of returns of the isolated trades is slightly smaller than that of all trades, meaning that it is adding significant value in the form of increased risk adjusted returns.\n",
    "- The isolated trades also have a greater accuracy than the benchmark of simply buying all trades.\n",
    "- There are about 1/16th the number of trades that fall into this category.\n",
    "- Welch's t-test tells us that the mean value of the isolated trades is higher than that of all trades and that it is statistically significant.  However I do not think that this should be considered significant based on the very small size of the dataset.\n",
    "\n",
    "The chart is a visualization of hypotheical 4 day trading windows whose behavior mimicks what is described in the statistics above the chart.  For each day, 4 trades from both return distributions are averaged to find the equal risk weighted return for the day.  This is done for each day in the chart and forms one line; this is then repeated 40 times.  We can see that the blue cloud is higher and narrower than the red cloud.  This reflects how the average return is greater but with less variance for the isolated trades than for all trades.\n",
    "\n",
    "# Conclusion:\n",
    "- There is compelling evidence that isolating tweeters who have been accurate in recent trading can give an advantage in trading when compared to the general market.\n",
    "- This conclusion has been reached using extremely limited data and should not be taken directly into live markets without significant further exploration.\n",
    "\n",
    "# Further Work:\n",
    "- Purchasing a Twitter Developer subscription and do this same analysis with significantly more data over a much longer time period.\n",
    "- Make sure that both bull and bear markets are included in future analysis."
   ]
  },
  {
   "cell_type": "code",
   "execution_count": null,
   "metadata": {},
   "outputs": [],
   "source": []
  }
 ],
 "metadata": {
  "kernelspec": {
   "display_name": "Python 3",
   "language": "python",
   "name": "python3"
  },
  "language_info": {
   "codemirror_mode": {
    "name": "ipython",
    "version": 3
   },
   "file_extension": ".py",
   "mimetype": "text/x-python",
   "name": "python",
   "nbconvert_exporter": "python",
   "pygments_lexer": "ipython3",
   "version": "3.7.3"
  }
 },
 "nbformat": 4,
 "nbformat_minor": 2
}
